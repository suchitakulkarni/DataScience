{
 "cells": [
  {
   "cell_type": "code",
   "execution_count": 3,
   "id": "fdfe18f6-b698-4d48-b797-51c0ea3c8f7a",
   "metadata": {},
   "outputs": [],
   "source": [
    "class student():\n",
    "    def __init__(self):\n",
    "        self.name = \"\"\n",
    "        self.age = 0\n",
    "        self.year = 0\n",
    "    "
   ]
  },
  {
   "cell_type": "code",
   "execution_count": 6,
   "id": "1b75106b-1291-40d9-922a-6b771fca40af",
   "metadata": {},
   "outputs": [],
   "source": [
    "a = student()\n",
    "a.name = 'Ajay'\n",
    "a.age = 20\n",
    "a.year = 10"
   ]
  },
  {
   "cell_type": "code",
   "execution_count": 7,
   "id": "e9c244cc-b9ee-44cf-9ec8-6a1b0f0a8c73",
   "metadata": {},
   "outputs": [
    {
     "data": {
      "text/plain": [
       "'Ajay'"
      ]
     },
     "execution_count": 7,
     "metadata": {},
     "output_type": "execute_result"
    }
   ],
   "source": [
    "a.name"
   ]
  },
  {
   "cell_type": "code",
   "execution_count": 8,
   "id": "fdcfe528-5184-4514-ae73-31c4c87bdd71",
   "metadata": {},
   "outputs": [],
   "source": [
    "b = student()\n",
    "b.name = 'Vani'\n",
    "b.age = 15\n",
    "b.year = 4"
   ]
  },
  {
   "cell_type": "code",
   "execution_count": 9,
   "id": "4b464dea-c4df-4eb8-b153-6800c3d819fe",
   "metadata": {},
   "outputs": [
    {
     "data": {
      "text/plain": [
       "'AjayVani'"
      ]
     },
     "execution_count": 9,
     "metadata": {},
     "output_type": "execute_result"
    }
   ],
   "source": [
    "a.name + b.name"
   ]
  },
  {
   "cell_type": "markdown",
   "id": "068fcbd0-0074-4895-86cf-b7c8c4a05a75",
   "metadata": {},
   "source": [
    "# ChatGPT exercises"
   ]
  },
  {
   "cell_type": "markdown",
   "id": "ca8b9e08-f995-4b09-a4b6-81b5db041971",
   "metadata": {},
   "source": [
    "## Exercise 1"
   ]
  },
  {
   "cell_type": "code",
   "execution_count": 25,
   "id": "62209516-6ee9-4885-a823-86c31b021660",
   "metadata": {},
   "outputs": [
    {
     "name": "stdout",
     "output_type": "stream",
     "text": [
      "Hello, my name is test\n"
     ]
    }
   ],
   "source": [
    "# Create a Person class\n",
    "# Attributes: name, age\n",
    "# Method: greet() that prints a greeting with the person's name.\n",
    "\n",
    "class person():\n",
    "    def __init__(self, name, age):\n",
    "        self.name = name\n",
    "        self.age = age\n",
    "    def greet(self):\n",
    "        print(f'Hello, my name is {self.name}')\n",
    "        \n",
    "a = person('test', 25)\n",
    "a.greet()"
   ]
  },
  {
   "cell_type": "markdown",
   "id": "f069a074-feb9-4625-b471-7679c18c31ee",
   "metadata": {},
   "source": [
    "## Exercise 2"
   ]
  },
  {
   "cell_type": "code",
   "execution_count": 32,
   "id": "95838454-b228-47a8-bece-aa6d1fcbd97b",
   "metadata": {},
   "outputs": [
    {
     "name": "stdout",
     "output_type": "stream",
     "text": [
      "remaining balance is 1300\n",
      "remaining balance is 300\n"
     ]
    }
   ],
   "source": [
    "# Bank Account Class\n",
    "# Attributes: account_number, balance\n",
    "# Methods: deposit(amount), withdraw(amount), get_balance()\n",
    "\n",
    "class bank_account():\n",
    "    def __init__(self, account_number, balance):\n",
    "        self.acno = account_number\n",
    "        self.balance = balance \n",
    "    def deposite_amount(self, amount):\n",
    "        self.balance = self.balance + amount \n",
    "    def withdraw_amount(self, amount):\n",
    "        self.balance = self.balance - amount \n",
    "    def get_balance(self):\n",
    "        print(f'remaining balance is {self.balance}')\n",
    "\n",
    "a = bank_account(1234, 1000)\n",
    "a.deposite_amount(300)\n",
    "a.get_balance()\n",
    "a.withdraw_amount(1000)\n",
    "a.get_balance()"
   ]
  },
  {
   "cell_type": "markdown",
   "id": "d6066e6b-f500-4c7f-b8e2-b17d937de73d",
   "metadata": {},
   "source": [
    "## Exercise 3"
   ]
  },
  {
   "cell_type": "code",
   "execution_count": 35,
   "id": "6b01b525-0701-4180-b661-16a88a69eaeb",
   "metadata": {},
   "outputs": [
    {
     "name": "stdout",
     "output_type": "stream",
     "text": [
      "16\n",
      "15\n"
     ]
    }
   ],
   "source": [
    "# Rectangle Class\n",
    "# Attributes: width, height\n",
    "# Methods: area(), perimeter()\n",
    "\n",
    "class rectangle():\n",
    "    def __init__(self, width, height):\n",
    "        self.width = width\n",
    "        self.height = height \n",
    "    def area(self):\n",
    "        area = self.width*self.height \n",
    "        return area\n",
    "    def perimeter(self):\n",
    "        perimeter = 2*self.width + 2*self.height\n",
    "        return perimeter\n",
    "\n",
    "a = rectangle(5,3)\n",
    "print(a.perimeter())\n",
    "print(a.area())"
   ]
  },
  {
   "cell_type": "markdown",
   "id": "d3998b98-10d6-4c90-8e94-2436c90a9c8c",
   "metadata": {},
   "source": [
    "## Exercise 4"
   ]
  },
  {
   "cell_type": "code",
   "execution_count": 51,
   "id": "4c46490c-0098-4f77-be69-07bf823b3bef",
   "metadata": {},
   "outputs": [
    {
     "data": {
      "text/plain": [
       "4.0"
      ]
     },
     "execution_count": 51,
     "metadata": {},
     "output_type": "execute_result"
    }
   ],
   "source": [
    "# Student Class\n",
    "# Attributes: name, grades (list)\n",
    "# Methods: add_grade(grade), get_average()\n",
    "\n",
    "class student():\n",
    "    def __init__(self, name):\n",
    "        self.name = name\n",
    "        self.grades = []\n",
    "    def add_grade(self, grade):\n",
    "        self.grades.append(grade)\n",
    "    def get_average(self):\n",
    "        import numpy as np\n",
    "        return sum(self.grades)/len(self.grades)\n",
    "\n",
    "a = student('test')\n",
    "a.add_grade(4)\n",
    "a.get_average()"
   ]
  },
  {
   "cell_type": "markdown",
   "id": "3bb1138a-8633-4c4e-a072-66ae4e4777d4",
   "metadata": {},
   "source": [
    "## Exercise 5"
   ]
  },
  {
   "cell_type": "code",
   "execution_count": 52,
   "id": "726abfc3-788f-4065-b19e-31c775773a6e",
   "metadata": {},
   "outputs": [],
   "source": [
    "#Book Class\n",
    "# Attributes: title, author, pages\n",
    "# Method: description() — returns a string like: \"Title by Author, X pages\"\n",
    "\n",
    "class book():\n",
    "    def __init__(self, title, author, pages):\n",
    "        self.title = title\n",
    "        self.author = author\n",
    "        self.pages = pages \n",
    "    def describe(self):\n",
    "        print(f'{self.title} by {self.author}, {self.pages} pages' )"
   ]
  },
  {
   "cell_type": "code",
   "execution_count": 53,
   "id": "85e0e5fa-5f48-4ca4-9f02-4fd083dbbab7",
   "metadata": {},
   "outputs": [
    {
     "name": "stdout",
     "output_type": "stream",
     "text": [
      "test by test test, 450 pages\n"
     ]
    }
   ],
   "source": [
    "a = book('test', 'test test', 450)\n",
    "a.describe()"
   ]
  },
  {
   "cell_type": "markdown",
   "id": "06d5c294-9a9c-49ad-bb7a-b426050819ec",
   "metadata": {},
   "source": [
    "## Exercise 6"
   ]
  },
  {
   "cell_type": "code",
   "execution_count": null,
   "id": "f8a5e141-f07d-4592-b648-7862152acf0c",
   "metadata": {},
   "outputs": [],
   "source": [
    "# Dog Class with Behavior\n",
    "# Attributes: name, breed\n",
    "# Methods: bark(), fetch(item)"
   ]
  }
 ],
 "metadata": {
  "kernelspec": {
   "display_name": "Python 3 (ipykernel)",
   "language": "python",
   "name": "python3"
  },
  "language_info": {
   "codemirror_mode": {
    "name": "ipython",
    "version": 3
   },
   "file_extension": ".py",
   "mimetype": "text/x-python",
   "name": "python",
   "nbconvert_exporter": "python",
   "pygments_lexer": "ipython3",
   "version": "3.10.17"
  }
 },
 "nbformat": 4,
 "nbformat_minor": 5
}
