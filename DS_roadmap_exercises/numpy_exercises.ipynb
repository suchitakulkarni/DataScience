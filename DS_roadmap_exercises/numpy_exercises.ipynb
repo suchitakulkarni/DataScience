{
 "cells": [
  {
   "cell_type": "code",
   "execution_count": 1,
   "id": "96ab9ec4",
   "metadata": {},
   "outputs": [],
   "source": [
    "import numpy as np"
   ]
  },
  {
   "cell_type": "code",
   "execution_count": 2,
   "id": "0853c508",
   "metadata": {},
   "outputs": [
    {
     "data": {
      "text/plain": [
       "array([0., 0., 0., 0., 0., 0., 0., 0., 0., 0.])"
      ]
     },
     "execution_count": 2,
     "metadata": {},
     "output_type": "execute_result"
    }
   ],
   "source": [
    "#1. Create a NumPy array of 10 zeros.\n",
    "#Hint: Use np.zeros()\n",
    "np.zeros(10)"
   ]
  },
  {
   "cell_type": "code",
   "execution_count": 4,
   "id": "d20c3444",
   "metadata": {},
   "outputs": [
    {
     "data": {
      "text/plain": [
       "array([10, 11, 12, 13, 14, 15, 16, 17, 18, 19, 20, 21, 22, 23, 24, 25, 26,\n",
       "       27, 28, 29, 30, 31, 32, 33, 34, 35, 36, 37, 38, 39, 40, 41, 42, 43,\n",
       "       44, 45, 46, 47, 48, 49])"
      ]
     },
     "execution_count": 4,
     "metadata": {},
     "output_type": "execute_result"
    }
   ],
   "source": [
    "#2. Create a 1D NumPy array of integers from 10 to 49.\n",
    "#Hint: Use np.arange()\n",
    "\n",
    "np.arange(10,50)"
   ]
  },
  {
   "cell_type": "code",
   "execution_count": 9,
   "id": "420cf459",
   "metadata": {},
   "outputs": [
    {
     "data": {
      "text/plain": [
       "array([10, 11, 12, 13, 14, 15, 16, 17, 18, 19, 20, 21, 22, 23, 24, 25, 26,\n",
       "       27, 28, 29, 30, 31, 32, 33, 34, 35, 36, 37, 38, 39, 40, 41, 42, 43,\n",
       "       44, 45, 46, 47, 48, 49])"
      ]
     },
     "execution_count": 9,
     "metadata": {},
     "output_type": "execute_result"
    }
   ],
   "source": [
    "#3. Reverse the array you created in Exercise 2.\n",
    "#Hint: Use slicing\n",
    "\n",
    "a = np.arange(10, 50)\n",
    "a[::-1]"
   ]
  },
  {
   "cell_type": "code",
   "execution_count": 12,
   "id": "0c6810f3",
   "metadata": {},
   "outputs": [
    {
     "name": "stdout",
     "output_type": "stream",
     "text": [
      "[[0 1 2]\n",
      " [3 4 5]\n",
      " [6 7 8]]\n"
     ]
    }
   ],
   "source": [
    "#Create a 3x3 matrix with values from 0 to 8.\n",
    "#Hint: Use reshape()\n",
    "\n",
    "b = np.arange(0,9).reshape(3,3)\n",
    "print(b)"
   ]
  },
  {
   "cell_type": "code",
   "execution_count": 13,
   "id": "9396a83b",
   "metadata": {},
   "outputs": [
    {
     "data": {
      "text/plain": [
       "(array([0, 1, 4]),)"
      ]
     },
     "execution_count": 13,
     "metadata": {},
     "output_type": "execute_result"
    }
   ],
   "source": [
    "#5. Find the indices of non-zero elements in [1, 2, 0, 0, 4, 0].\n",
    "#Hint: Use np.nonzero()\n",
    "\n",
    "a = np.asarray([1, 2, 0, 0, 4, 0])\n",
    "np.nonzero(a)"
   ]
  },
  {
   "cell_type": "code",
   "execution_count": 14,
   "id": "c64da59f",
   "metadata": {},
   "outputs": [
    {
     "data": {
      "text/plain": [
       "array([[1., 0., 0., 0., 0.],\n",
       "       [0., 1., 0., 0., 0.],\n",
       "       [0., 0., 1., 0., 0.],\n",
       "       [0., 0., 0., 1., 0.],\n",
       "       [0., 0., 0., 0., 1.]])"
      ]
     },
     "execution_count": 14,
     "metadata": {},
     "output_type": "execute_result"
    }
   ],
   "source": [
    "#6. Create a 5x5 identity matrix.\n",
    "#Hint: Use np.eye()\n",
    "\n",
    "np.eye(5)"
   ]
  },
  {
   "cell_type": "code",
   "execution_count": 23,
   "id": "0f131120",
   "metadata": {},
   "outputs": [
    {
     "name": "stdout",
     "output_type": "stream",
     "text": [
      "[[[0.99998252 0.88363851 0.87271639]\n",
      "  [0.64055146 0.08406808 0.96756192]\n",
      "  [0.23315301 0.09738149 0.79044496]]\n",
      "\n",
      " [[0.67468264 0.72308617 0.36511593]\n",
      "  [0.64618887 0.0422473  0.82699999]\n",
      "  [0.34485573 0.14354272 0.37181846]]\n",
      "\n",
      " [[0.11501163 0.56360095 0.19364126]\n",
      "  [0.27918443 0.9812059  0.64791645]\n",
      "  [0.00345889 0.21872387 0.29431098]]]\n",
      "[[[0.62170038 0.48133945 0.44290467]\n",
      "  [0.71226804 0.86749867 0.40453865]\n",
      "  [0.76455194 0.48523295 0.32472704]]\n",
      "\n",
      " [[0.02505261 0.27536659 0.01137675]\n",
      "  [0.52372581 0.60779022 0.01660089]\n",
      "  [0.89470596 0.52789764 0.6465182 ]]\n",
      "\n",
      " [[0.33201468 0.29664021 0.40126694]\n",
      "  [0.55480823 0.17136762 0.19592999]\n",
      "  [0.09217362 0.34570167 0.3216326 ]]]\n"
     ]
    }
   ],
   "source": [
    "#7. Create a 3x3x3 array with random values.\n",
    "#Hint: Use np.random.random()\n",
    "\n",
    "a = np.asarray([np.random.random() for _ in range(27) ]).reshape(3,3,3)\n",
    "print(a)\n",
    "\n",
    "#OR\n",
    "\n",
    "a_using_rand = np.random.random((3,3,3))\n",
    "print(a_using_rand)"
   ]
  },
  {
   "cell_type": "code",
   "execution_count": 26,
   "id": "5dc1dbdf",
   "metadata": {},
   "outputs": [
    {
     "name": "stdout",
     "output_type": "stream",
     "text": [
      "[[0.96435081 0.33384799 0.21571247 0.68005348 0.8050647 ]\n",
      " [0.22442366 1.         0.47037459 0.84417081 0.6741325 ]\n",
      " [0.45081293 0.16539516 0.23074694 0.87977997 0.5390226 ]\n",
      " [0.04431614 0.53783684 0.86618597 0.50789402 0.3133883 ]\n",
      " [0.12287888 0.         0.70551839 0.18242569 0.12658978]]\n"
     ]
    }
   ],
   "source": [
    "#8. Normalize a random 5x5 matrix (values between 0 and 1).\n",
    "#Hint: Normalize with (x - min) / (max - min)\n",
    "\n",
    "a = np.random.random((5,5))\n",
    "normalized_a = (a - a.min())/(a.max()-a.min())\n",
    "print(normalized_a)"
   ]
  },
  {
   "cell_type": "code",
   "execution_count": 33,
   "id": "617a3094",
   "metadata": {},
   "outputs": [
    {
     "name": "stdout",
     "output_type": "stream",
     "text": [
      "method 1 = [[ 10  13]\n",
      " [ 28  40]\n",
      " [ 46  67]\n",
      " [ 64  94]\n",
      " [ 82 121]]\n",
      "method 1 = [[ 10  13]\n",
      " [ 28  40]\n",
      " [ 46  67]\n",
      " [ 64  94]\n",
      " [ 82 121]]\n"
     ]
    }
   ],
   "source": [
    "#9. Multiply a 5x3 matrix by a 3x2 matrix (dot product).\n",
    "#Hint: Use np.dot() or @\n",
    "\n",
    "a = np.arange(0,15).reshape(5,3)\n",
    "b = np.arange(0,6).reshape(3,2)\n",
    "print(f'method 1 = {np.dot(a,b)}')\n",
    "# Or also following works\n",
    "print(f'method 1 = {a@b}')"
   ]
  },
  {
   "cell_type": "code",
   "execution_count": null,
   "id": "c7951b16",
   "metadata": {},
   "outputs": [],
   "source": []
  }
 ],
 "metadata": {
  "kernelspec": {
   "display_name": "Python [conda env:anaconda3-industry] *",
   "language": "python",
   "name": "conda-env-anaconda3-industry-py"
  },
  "language_info": {
   "codemirror_mode": {
    "name": "ipython",
    "version": 3
   },
   "file_extension": ".py",
   "mimetype": "text/x-python",
   "name": "python",
   "nbconvert_exporter": "python",
   "pygments_lexer": "ipython3",
   "version": "3.13.1"
  }
 },
 "nbformat": 4,
 "nbformat_minor": 5
}
