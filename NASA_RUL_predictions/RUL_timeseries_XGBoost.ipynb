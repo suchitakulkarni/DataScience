{
 "cells": [
  {
   "cell_type": "code",
   "execution_count": 1,
   "id": "9813b9f3",
   "metadata": {},
   "outputs": [],
   "source": [
    "import pandas as pd\n",
    "import os\n",
    "import numpy as np\n",
    "import optuna\n",
    "from sklearn.preprocessing import StandardScaler\n",
    "# We are going to compare two different regression models here\n",
    "from sklearn.ensemble import RandomForestRegressor\n",
    "from xgboost import XGBRegressor\n",
    "from optuna.integration import XGBoostPruningCallback\n",
    "from sklearn.model_selection import GridSearchCV,RandomizedSearchCV\n",
    "from sklearn.metrics import mean_absolute_error\n",
    "from sklearn.model_selection import train_test_split\n",
    "import optuna\n",
    "import xgboost as xgb\n",
    "from sklearn.metrics import mean_absolute_error"
   ]
  },
  {
   "cell_type": "markdown",
   "id": "8057b6da",
   "metadata": {},
   "source": [
    "# Data preparation"
   ]
  },
  {
   "cell_type": "code",
   "execution_count": 2,
   "id": "73700e6c",
   "metadata": {},
   "outputs": [],
   "source": [
    "# --------------------\n",
    "# Load and Preprocess\n",
    "# --------------------\n",
    "sfeatures = ['s' + str(i) for i in range(1, 22)]\n",
    "col_names = ['unit_no', 'time', 'op1', 'op2', 'op3'] + sfeatures\n",
    "\n",
    "data_train = pd.read_csv('./CMAPSSData/train_FD001.txt', sep=r'\\s+', header=None, names=col_names)\n",
    "data_test = pd.read_csv('./CMAPSSData/test_FD001.txt', sep=r'\\s+', header=None, names=col_names)\n",
    "RUL_labels = pd.read_csv('./CMAPSSData/RUL_FD001.txt', sep=r'\\s+', header=None, names=['RUL'])\n",
    "\n",
    "# Add RUL to train\n",
    "max_times = data_train.groupby('unit_no')['time'].max().reset_index()\n",
    "data_train = data_train.merge(max_times, on='unit_no', suffixes=('', '_max'))\n",
    "data_train['RUL_calc'] = data_train['time_max'] - data_train['time']\n",
    "data_train.drop(['time', 'time_max'], axis=1, inplace=True)\n",
    "\n",
    "# Add RUL to test\n",
    "RUL_labels['unit_no'] = RUL_labels.index + 1\n",
    "max_times_test = data_test.groupby('unit_no')['time'].max().reset_index()\n",
    "data_test = data_test.merge(max_times_test, on='unit_no', suffixes=('', '_max'))\n",
    "data_test = data_test.merge(RUL_labels, on='unit_no')\n",
    "data_test['RUL_calc'] = data_test['time_max'] - data_test['time'] + data_test['RUL']\n",
    "data_test.drop(['time', 'time_max', 'RUL'], axis=1, inplace=True)\n",
    "\n",
    "feature_cols = ['op1', 'op2', 'op3'] + sfeatures"
   ]
  },
  {
   "cell_type": "code",
   "execution_count": 3,
   "id": "ce864e2b",
   "metadata": {},
   "outputs": [
    {
     "data": {
      "text/html": [
       "<div>\n",
       "<style scoped>\n",
       "    .dataframe tbody tr th:only-of-type {\n",
       "        vertical-align: middle;\n",
       "    }\n",
       "\n",
       "    .dataframe tbody tr th {\n",
       "        vertical-align: top;\n",
       "    }\n",
       "\n",
       "    .dataframe thead th {\n",
       "        text-align: right;\n",
       "    }\n",
       "</style>\n",
       "<table border=\"1\" class=\"dataframe\">\n",
       "  <thead>\n",
       "    <tr style=\"text-align: right;\">\n",
       "      <th></th>\n",
       "      <th>unit_no</th>\n",
       "      <th>op1</th>\n",
       "      <th>op2</th>\n",
       "      <th>op3</th>\n",
       "      <th>s1</th>\n",
       "      <th>s2</th>\n",
       "      <th>s3</th>\n",
       "      <th>s4</th>\n",
       "      <th>s5</th>\n",
       "      <th>s6</th>\n",
       "      <th>...</th>\n",
       "      <th>s13</th>\n",
       "      <th>s14</th>\n",
       "      <th>s15</th>\n",
       "      <th>s16</th>\n",
       "      <th>s17</th>\n",
       "      <th>s18</th>\n",
       "      <th>s19</th>\n",
       "      <th>s20</th>\n",
       "      <th>s21</th>\n",
       "      <th>RUL_calc</th>\n",
       "    </tr>\n",
       "  </thead>\n",
       "  <tbody>\n",
       "    <tr>\n",
       "      <th>0</th>\n",
       "      <td>1</td>\n",
       "      <td>-0.315980</td>\n",
       "      <td>-1.372953</td>\n",
       "      <td>0.0</td>\n",
       "      <td>0.0</td>\n",
       "      <td>-1.721725</td>\n",
       "      <td>-0.134255</td>\n",
       "      <td>-0.925936</td>\n",
       "      <td>-1.776357e-15</td>\n",
       "      <td>0.141683</td>\n",
       "      <td>...</td>\n",
       "      <td>-1.058890</td>\n",
       "      <td>-0.269071</td>\n",
       "      <td>-0.603816</td>\n",
       "      <td>-1.387779e-17</td>\n",
       "      <td>-0.781710</td>\n",
       "      <td>0.0</td>\n",
       "      <td>0.0</td>\n",
       "      <td>1.348493</td>\n",
       "      <td>1.194427</td>\n",
       "      <td>191</td>\n",
       "    </tr>\n",
       "    <tr>\n",
       "      <th>1</th>\n",
       "      <td>1</td>\n",
       "      <td>0.872722</td>\n",
       "      <td>-1.031720</td>\n",
       "      <td>0.0</td>\n",
       "      <td>0.0</td>\n",
       "      <td>-1.061780</td>\n",
       "      <td>0.211528</td>\n",
       "      <td>-0.643726</td>\n",
       "      <td>-1.776357e-15</td>\n",
       "      <td>0.141683</td>\n",
       "      <td>...</td>\n",
       "      <td>-0.363646</td>\n",
       "      <td>-0.642845</td>\n",
       "      <td>-0.275852</td>\n",
       "      <td>-1.387779e-17</td>\n",
       "      <td>-0.781710</td>\n",
       "      <td>0.0</td>\n",
       "      <td>0.0</td>\n",
       "      <td>1.016528</td>\n",
       "      <td>1.236922</td>\n",
       "      <td>190</td>\n",
       "    </tr>\n",
       "    <tr>\n",
       "      <th>2</th>\n",
       "      <td>1</td>\n",
       "      <td>-1.961874</td>\n",
       "      <td>1.015677</td>\n",
       "      <td>0.0</td>\n",
       "      <td>0.0</td>\n",
       "      <td>-0.661813</td>\n",
       "      <td>-0.413166</td>\n",
       "      <td>-0.525953</td>\n",
       "      <td>-1.776357e-15</td>\n",
       "      <td>0.141683</td>\n",
       "      <td>...</td>\n",
       "      <td>-0.919841</td>\n",
       "      <td>-0.551629</td>\n",
       "      <td>-0.649144</td>\n",
       "      <td>-1.387779e-17</td>\n",
       "      <td>-2.073094</td>\n",
       "      <td>0.0</td>\n",
       "      <td>0.0</td>\n",
       "      <td>0.739891</td>\n",
       "      <td>0.503423</td>\n",
       "      <td>189</td>\n",
       "    </tr>\n",
       "    <tr>\n",
       "      <th>3</th>\n",
       "      <td>1</td>\n",
       "      <td>0.324090</td>\n",
       "      <td>-0.008022</td>\n",
       "      <td>0.0</td>\n",
       "      <td>0.0</td>\n",
       "      <td>-0.661813</td>\n",
       "      <td>-1.261314</td>\n",
       "      <td>-0.784831</td>\n",
       "      <td>-1.776357e-15</td>\n",
       "      <td>0.141683</td>\n",
       "      <td>...</td>\n",
       "      <td>-0.224597</td>\n",
       "      <td>-0.520176</td>\n",
       "      <td>-1.971665</td>\n",
       "      <td>-1.387779e-17</td>\n",
       "      <td>-0.781710</td>\n",
       "      <td>0.0</td>\n",
       "      <td>0.0</td>\n",
       "      <td>0.352598</td>\n",
       "      <td>0.777792</td>\n",
       "      <td>188</td>\n",
       "    </tr>\n",
       "    <tr>\n",
       "      <th>4</th>\n",
       "      <td>1</td>\n",
       "      <td>-0.864611</td>\n",
       "      <td>-0.690488</td>\n",
       "      <td>0.0</td>\n",
       "      <td>0.0</td>\n",
       "      <td>-0.621816</td>\n",
       "      <td>-1.251528</td>\n",
       "      <td>-0.301518</td>\n",
       "      <td>-1.776357e-15</td>\n",
       "      <td>0.141683</td>\n",
       "      <td>...</td>\n",
       "      <td>-0.780793</td>\n",
       "      <td>-0.521748</td>\n",
       "      <td>-0.339845</td>\n",
       "      <td>-1.387779e-17</td>\n",
       "      <td>-0.136018</td>\n",
       "      <td>0.0</td>\n",
       "      <td>0.0</td>\n",
       "      <td>0.463253</td>\n",
       "      <td>1.059552</td>\n",
       "      <td>187</td>\n",
       "    </tr>\n",
       "  </tbody>\n",
       "</table>\n",
       "<p>5 rows × 26 columns</p>\n",
       "</div>"
      ],
      "text/plain": [
       "   unit_no       op1       op2  op3   s1        s2        s3        s4  \\\n",
       "0        1 -0.315980 -1.372953  0.0  0.0 -1.721725 -0.134255 -0.925936   \n",
       "1        1  0.872722 -1.031720  0.0  0.0 -1.061780  0.211528 -0.643726   \n",
       "2        1 -1.961874  1.015677  0.0  0.0 -0.661813 -0.413166 -0.525953   \n",
       "3        1  0.324090 -0.008022  0.0  0.0 -0.661813 -1.261314 -0.784831   \n",
       "4        1 -0.864611 -0.690488  0.0  0.0 -0.621816 -1.251528 -0.301518   \n",
       "\n",
       "             s5        s6  ...       s13       s14       s15           s16  \\\n",
       "0 -1.776357e-15  0.141683  ... -1.058890 -0.269071 -0.603816 -1.387779e-17   \n",
       "1 -1.776357e-15  0.141683  ... -0.363646 -0.642845 -0.275852 -1.387779e-17   \n",
       "2 -1.776357e-15  0.141683  ... -0.919841 -0.551629 -0.649144 -1.387779e-17   \n",
       "3 -1.776357e-15  0.141683  ... -0.224597 -0.520176 -1.971665 -1.387779e-17   \n",
       "4 -1.776357e-15  0.141683  ... -0.780793 -0.521748 -0.339845 -1.387779e-17   \n",
       "\n",
       "        s17  s18  s19       s20       s21  RUL_calc  \n",
       "0 -0.781710  0.0  0.0  1.348493  1.194427       191  \n",
       "1 -0.781710  0.0  0.0  1.016528  1.236922       190  \n",
       "2 -2.073094  0.0  0.0  0.739891  0.503423       189  \n",
       "3 -0.781710  0.0  0.0  0.352598  0.777792       188  \n",
       "4 -0.136018  0.0  0.0  0.463253  1.059552       187  \n",
       "\n",
       "[5 rows x 26 columns]"
      ]
     },
     "execution_count": 3,
     "metadata": {},
     "output_type": "execute_result"
    }
   ],
   "source": [
    "# Normalize\n",
    "scaler = StandardScaler()\n",
    "data_train[feature_cols] = scaler.fit_transform(data_train[feature_cols])\n",
    "data_test[feature_cols] = scaler.transform(data_test[feature_cols])\n",
    "data_train.head()"
   ]
  },
  {
   "cell_type": "code",
   "execution_count": 4,
   "id": "751b1aa3",
   "metadata": {},
   "outputs": [],
   "source": [
    "# --------------------\n",
    "# Proper Train/Validation Split by unit_no\n",
    "# --------------------\n",
    "train_ids, valid_ids = train_test_split(data_train['unit_no'].unique(), test_size=0.2, random_state=42)\n",
    "train_df = data_train[data_train['unit_no'].isin(train_ids)]\n",
    "valid_df = data_train[data_train['unit_no'].isin(valid_ids)]"
   ]
  },
  {
   "cell_type": "markdown",
   "id": "ee1ea9e9",
   "metadata": {},
   "source": [
    "# XGBoost regressor"
   ]
  },
  {
   "cell_type": "code",
   "execution_count": 5,
   "id": "a10be99b",
   "metadata": {},
   "outputs": [],
   "source": [
    "# --------------------\n",
    "# Sliding Window\n",
    "# --------------------\n",
    "def create_sliding_window(df, window_length=30):\n",
    "    x, y, unit_id = [], [], []\n",
    "    for unit in df['unit_no'].unique():\n",
    "        unit_df = df[df['unit_no'] == unit]\n",
    "        for i in range(len(unit_df) - window_length):\n",
    "            window = unit_df.iloc[i:i + window_length][feature_cols].values\n",
    "            label = unit_df.iloc[i + window_length]['RUL_calc']\n",
    "            uid = unit_df.iloc[i + window_length]['unit_no']\n",
    "            unit_id.append(uid)\n",
    "            x.append(window)\n",
    "            y.append(label)\n",
    "    return np.array(x), np.array(y), np.asarray(unit_id)\n",
    "\n",
    "x_train, y_train, uid_train = create_sliding_window(train_df)\n",
    "x_valid, y_valid, uid_valid = create_sliding_window(valid_df)\n",
    "x_test, y_test, uid_test = create_sliding_window(data_test)\n",
    "\n",
    "# Flatten\n",
    "X_train = x_train.reshape(x_train.shape[0], -1)\n",
    "X_valid = x_valid.reshape(x_valid.shape[0], -1)\n",
    "X_test = x_test.reshape(x_test.shape[0], -1)"
   ]
  },
  {
   "cell_type": "code",
   "execution_count": 6,
   "id": "dc706c6a",
   "metadata": {},
   "outputs": [
    {
     "name": "stdout",
     "output_type": "stream",
     "text": [
      "shapes of x_train, X_train, y_train = ((14161, 30, 24), (14161, 720), (14161,))\n",
      "shapes of x_valid, X_valid, y_valid = ((3470, 30, 24), (3470, 720), (3470,))\n",
      "shapes of x_valid, X_valid, y_valid = ((10096, 30, 24), (10096, 720), (10096,))\n"
     ]
    }
   ],
   "source": [
    "print(f'shapes of x_train, X_train, y_train = {x_train.shape, X_train.shape, y_train.shape}')\n",
    "print(f'shapes of x_valid, X_valid, y_valid = {x_valid.shape, X_valid.shape, y_valid.shape}')\n",
    "print(f'shapes of x_valid, X_valid, y_valid = {x_test.shape, X_test.shape, y_test.shape}')"
   ]
  },
  {
   "cell_type": "code",
   "execution_count": 7,
   "id": "3b01e045",
   "metadata": {
    "scrolled": false
   },
   "outputs": [
    {
     "name": "stderr",
     "output_type": "stream",
     "text": [
      "[I 2025-06-11 09:44:16,192] A new study created in memory with name: no-name-18342154-f91f-4a9a-9841-db5f4332d32e\n"
     ]
    },
    {
     "name": "stdout",
     "output_type": "stream",
     "text": [
      "Optimizing quantile 0.05\n"
     ]
    },
    {
     "name": "stderr",
     "output_type": "stream",
     "text": [
      "[I 2025-06-11 09:44:18,598] Trial 0 finished with value: 41.41229758227743 and parameters: {'n_estimators': 46, 'max_depth': 5, 'learning_rate': 0.17547669845547817, 'subsample': 0.7045408173806313, 'colsample_bytree': 0.662052141938176}. Best is trial 0 with value: 41.41229758227743.\n",
      "[I 2025-06-11 09:44:24,061] Trial 1 finished with value: 54.46910867126342 and parameters: {'n_estimators': 84, 'max_depth': 5, 'learning_rate': 0.03594289532663201, 'subsample': 0.8666191892912773, 'colsample_bytree': 0.9146892809353361}. Best is trial 0 with value: 41.41229758227743.\n",
      "[I 2025-06-11 09:44:29,876] Trial 2 finished with value: 64.43258610530958 and parameters: {'n_estimators': 41, 'max_depth': 9, 'learning_rate': 0.0402039461564691, 'subsample': 0.8634891316149804, 'colsample_bytree': 0.772863447238863}. Best is trial 0 with value: 41.41229758227743.\n",
      "[I 2025-06-11 09:44:38,748] Trial 3 finished with value: 38.354415802850845 and parameters: {'n_estimators': 75, 'max_depth': 9, 'learning_rate': 0.16273404729643878, 'subsample': 0.8137298313287742, 'colsample_bytree': 0.9030535278765828}. Best is trial 3 with value: 38.354415802850845.\n",
      "[I 2025-06-11 09:44:43,873] Trial 4 finished with value: 44.076913732569395 and parameters: {'n_estimators': 46, 'max_depth': 8, 'learning_rate': 0.11908095328253754, 'subsample': 0.8017149310612957, 'colsample_bytree': 0.5692183212941156}. Best is trial 3 with value: 38.354415802850845.\n",
      "[I 2025-06-11 09:44:48,804] Trial 5 finished with value: 35.65163173931906 and parameters: {'n_estimators': 80, 'max_depth': 7, 'learning_rate': 0.22242898948183443, 'subsample': 0.729457791998452, 'colsample_bytree': 0.5740024799188144}. Best is trial 5 with value: 35.65163173931906.\n",
      "[I 2025-06-11 09:44:54,408] Trial 6 finished with value: 35.848123596074004 and parameters: {'n_estimators': 82, 'max_depth': 6, 'learning_rate': 0.22851128911325316, 'subsample': 0.7408568005795098, 'colsample_bytree': 0.6927345002745606}. Best is trial 5 with value: 35.65163173931906.\n",
      "[I 2025-06-11 09:44:57,407] Trial 7 finished with value: 68.38545095896515 and parameters: {'n_estimators': 69, 'max_depth': 3, 'learning_rate': 0.021380836028865313, 'subsample': 0.8334141473834884, 'colsample_bytree': 0.9408765563079107}. Best is trial 5 with value: 35.65163173931906.\n",
      "[I 2025-06-11 09:45:04,300] Trial 8 finished with value: 38.39435805835753 and parameters: {'n_estimators': 45, 'max_depth': 9, 'learning_rate': 0.23057251611981908, 'subsample': 0.8486486394687262, 'colsample_bytree': 0.7099248429920861}. Best is trial 5 with value: 35.65163173931906.\n",
      "[I 2025-06-11 09:45:09,956] Trial 9 finished with value: 53.35689322178921 and parameters: {'n_estimators': 52, 'max_depth': 10, 'learning_rate': 0.055949215309777145, 'subsample': 0.7440603049420108, 'colsample_bytree': 0.5033523528812074}. Best is trial 5 with value: 35.65163173931906.\n",
      "[I 2025-06-11 09:45:17,780] Trial 10 finished with value: 34.3874322450701 and parameters: {'n_estimators': 100, 'max_depth': 7, 'learning_rate': 0.29613656825094337, 'subsample': 0.5656003909686396, 'colsample_bytree': 0.596698055570382}. Best is trial 10 with value: 34.3874322450701.\n",
      "[I 2025-06-11 09:45:24,677] Trial 11 finished with value: 34.723281840998304 and parameters: {'n_estimators': 100, 'max_depth': 7, 'learning_rate': 0.298454576056674, 'subsample': 0.5458540834580047, 'colsample_bytree': 0.5907951243287328}. Best is trial 10 with value: 34.3874322450701.\n",
      "[I 2025-06-11 09:45:30,505] Trial 12 finished with value: 34.44366123447791 and parameters: {'n_estimators': 100, 'max_depth': 7, 'learning_rate': 0.2962361328448119, 'subsample': 0.5311339884146877, 'colsample_bytree': 0.6075543550378719}. Best is trial 10 with value: 34.3874322450701.\n",
      "[I 2025-06-11 09:45:36,495] Trial 13 finished with value: 34.95394617104393 and parameters: {'n_estimators': 98, 'max_depth': 6, 'learning_rate': 0.27814868317679936, 'subsample': 0.5092764844325524, 'colsample_bytree': 0.8017526123511434}. Best is trial 10 with value: 34.3874322450701.\n",
      "[I 2025-06-11 09:45:40,783] Trial 14 finished with value: 36.2206673861967 and parameters: {'n_estimators': 92, 'max_depth': 4, 'learning_rate': 0.2692204171613591, 'subsample': 0.6130493023120349, 'colsample_bytree': 0.63296521855804}. Best is trial 10 with value: 34.3874322450701.\n",
      "[I 2025-06-11 09:45:46,139] Trial 15 finished with value: 35.60204413649693 and parameters: {'n_estimators': 64, 'max_depth': 8, 'learning_rate': 0.2511841524548422, 'subsample': 0.6216891877266296, 'colsample_bytree': 0.506678666994804}. Best is trial 10 with value: 34.3874322450701.\n",
      "[I 2025-06-11 09:45:53,797] Trial 16 finished with value: 38.73115623560694 and parameters: {'n_estimators': 92, 'max_depth': 7, 'learning_rate': 0.11775703468119837, 'subsample': 0.9331774559808702, 'colsample_bytree': 0.8190549208144365}. Best is trial 10 with value: 34.3874322450701.\n",
      "[I 2025-06-11 09:45:58,069] Trial 17 finished with value: 37.3773543418055 and parameters: {'n_estimators': 90, 'max_depth': 5, 'learning_rate': 0.19716517240380965, 'subsample': 0.6058052690364747, 'colsample_bytree': 0.6299284725421909}. Best is trial 10 with value: 34.3874322450701.\n",
      "[I 2025-06-11 09:46:03,389] Trial 18 finished with value: 36.102119413165305 and parameters: {'n_estimators': 59, 'max_depth': 8, 'learning_rate': 0.29885304059486817, 'subsample': 0.6526122097963947, 'colsample_bytree': 0.7305964647030043}. Best is trial 10 with value: 34.3874322450701.\n",
      "[I 2025-06-11 09:46:08,501] Trial 19 finished with value: 42.35485446910355 and parameters: {'n_estimators': 88, 'max_depth': 6, 'learning_rate': 0.0829701518668926, 'subsample': 0.5488515740608427, 'colsample_bytree': 0.8556445735521594}. Best is trial 10 with value: 34.3874322450701.\n",
      "[I 2025-06-11 09:46:12,220] Trial 20 finished with value: 37.164656721896115 and parameters: {'n_estimators': 97, 'max_depth': 4, 'learning_rate': 0.1921864960612587, 'subsample': 0.6710716073710095, 'colsample_bytree': 0.5581867339749691}. Best is trial 10 with value: 34.3874322450701.\n",
      "[I 2025-06-11 09:46:17,338] Trial 21 finished with value: 34.273167124625715 and parameters: {'n_estimators': 99, 'max_depth': 7, 'learning_rate': 0.29428504960038904, 'subsample': 0.5576093055794974, 'colsample_bytree': 0.6111877254996368}. Best is trial 21 with value: 34.273167124625715.\n",
      "[I 2025-06-11 09:46:23,801] Trial 22 finished with value: 34.379597791474346 and parameters: {'n_estimators': 100, 'max_depth': 7, 'learning_rate': 0.2662471780417177, 'subsample': 0.5597756210711947, 'colsample_bytree': 0.9952098502809179}. Best is trial 21 with value: 34.273167124625715.\n",
      "[I 2025-06-11 09:46:30,400] Trial 23 finished with value: 34.75917556378883 and parameters: {'n_estimators': 94, 'max_depth': 8, 'learning_rate': 0.25276800364720475, 'subsample': 0.5784969293363939, 'colsample_bytree': 0.9778672833209325}. Best is trial 21 with value: 34.273167124625715.\n",
      "[I 2025-06-11 09:46:34,914] Trial 24 finished with value: 35.29502001569743 and parameters: {'n_estimators': 87, 'max_depth': 6, 'learning_rate': 0.2770425279379676, 'subsample': 0.5767513280862866, 'colsample_bytree': 0.6726568713448111}. Best is trial 21 with value: 34.273167124625715.\n",
      "[I 2025-06-11 09:46:40,325] Trial 25 finished with value: 35.30157386529815 and parameters: {'n_estimators': 93, 'max_depth': 7, 'learning_rate': 0.2542627182129758, 'subsample': 0.5077636680015186, 'colsample_bytree': 0.7550950382416171}. Best is trial 21 with value: 34.273167124625715.\n",
      "[I 2025-06-11 09:46:46,570] Trial 26 finished with value: 36.372052480997546 and parameters: {'n_estimators': 78, 'max_depth': 8, 'learning_rate': 0.2046118726422398, 'subsample': 0.6556281094273673, 'colsample_bytree': 0.5379739566363895}. Best is trial 21 with value: 34.273167124625715.\n",
      "[I 2025-06-11 09:46:56,476] Trial 27 finished with value: 35.73043921564086 and parameters: {'n_estimators': 73, 'max_depth': 10, 'learning_rate': 0.26862219876743026, 'subsample': 0.9945260233676425, 'colsample_bytree': 0.8621430707851947}. Best is trial 21 with value: 34.273167124625715.\n",
      "[I 2025-06-11 09:47:01,033] Trial 28 finished with value: 35.41624153420887 and parameters: {'n_estimators': 86, 'max_depth': 6, 'learning_rate': 0.2439018339347101, 'subsample': 0.5723165904174209, 'colsample_bytree': 0.9847370988675885}. Best is trial 21 with value: 34.273167124625715.\n"
     ]
    },
    {
     "name": "stderr",
     "output_type": "stream",
     "text": [
      "[I 2025-06-11 09:47:04,435] Trial 29 finished with value: 35.65943010011285 and parameters: {'n_estimators': 95, 'max_depth': 5, 'learning_rate': 0.28215399144829595, 'subsample': 0.6718632235318431, 'colsample_bytree': 0.6558011627667657}. Best is trial 21 with value: 34.273167124625715.\n",
      "[I 2025-06-11 09:47:10,038] Trial 30 finished with value: 38.058669308635274 and parameters: {'n_estimators': 100, 'max_depth': 7, 'learning_rate': 0.13224666079142133, 'subsample': 0.6979035644038292, 'colsample_bytree': 0.6178395027561585}. Best is trial 21 with value: 34.273167124625715.\n",
      "[I 2025-06-11 09:47:15,128] Trial 31 finished with value: 34.4629246644869 and parameters: {'n_estimators': 97, 'max_depth': 7, 'learning_rate': 0.297377889652758, 'subsample': 0.5328475882997459, 'colsample_bytree': 0.595500028018232}. Best is trial 21 with value: 34.273167124625715.\n",
      "[I 2025-06-11 09:47:19,897] Trial 32 finished with value: 33.85668206634886 and parameters: {'n_estimators': 100, 'max_depth': 7, 'learning_rate': 0.2800379608945074, 'subsample': 0.5066410120140739, 'colsample_bytree': 0.5356636494795903}. Best is trial 32 with value: 33.85668206634886.\n",
      "[I 2025-06-11 09:47:26,505] Trial 33 finished with value: 34.32070229590283 and parameters: {'n_estimators': 90, 'max_depth': 8, 'learning_rate': 0.2610069405334828, 'subsample': 0.5996314257643705, 'colsample_bytree': 0.5358501100242672}. Best is trial 32 with value: 33.85668206634886.\n",
      "[I 2025-06-11 09:47:32,784] Trial 34 finished with value: 35.623814104570435 and parameters: {'n_estimators': 84, 'max_depth': 9, 'learning_rate': 0.2139228512595867, 'subsample': 0.505424402531955, 'colsample_bytree': 0.544511951099971}. Best is trial 32 with value: 33.85668206634886.\n",
      "[I 2025-06-11 09:47:39,271] Trial 35 finished with value: 36.654343358557995 and parameters: {'n_estimators': 89, 'max_depth': 8, 'learning_rate': 0.17362319352047278, 'subsample': 0.5999806879390847, 'colsample_bytree': 0.5312421548331256}. Best is trial 32 with value: 33.85668206634886.\n",
      "[I 2025-06-11 09:47:46,012] Trial 36 finished with value: 35.0984273539218 and parameters: {'n_estimators': 96, 'max_depth': 8, 'learning_rate': 0.23630649166197554, 'subsample': 0.6305147551611229, 'colsample_bytree': 0.5274187715760247}. Best is trial 32 with value: 33.85668206634886.\n",
      "[I 2025-06-11 09:47:53,158] Trial 37 finished with value: 34.35567350784043 and parameters: {'n_estimators': 91, 'max_depth': 9, 'learning_rate': 0.2601112106344055, 'subsample': 0.7841983357578708, 'colsample_bytree': 0.5660441137479124}. Best is trial 32 with value: 33.85668206634886.\n",
      "[I 2025-06-11 09:47:59,520] Trial 38 finished with value: 35.10309968304952 and parameters: {'n_estimators': 81, 'max_depth': 9, 'learning_rate': 0.2580623789099034, 'subsample': 0.7952286764489653, 'colsample_bytree': 0.5632341288622146}. Best is trial 32 with value: 33.85668206634886.\n",
      "[I 2025-06-11 09:48:05,890] Trial 39 finished with value: 35.851681471111455 and parameters: {'n_estimators': 78, 'max_depth': 9, 'learning_rate': 0.22547915146957062, 'subsample': 0.785555172822795, 'colsample_bytree': 0.646701477001313}. Best is trial 32 with value: 33.85668206634886.\n",
      "[I 2025-06-11 09:48:15,329] Trial 40 finished with value: 35.76381401733122 and parameters: {'n_estimators': 84, 'max_depth': 10, 'learning_rate': 0.18274564300425344, 'subsample': 0.8977281255247547, 'colsample_bytree': 0.5768419112765395}. Best is trial 32 with value: 33.85668206634886.\n",
      "[I 2025-06-11 09:48:22,260] Trial 41 finished with value: 34.73680326689346 and parameters: {'n_estimators': 92, 'max_depth': 9, 'learning_rate': 0.26433889143701633, 'subsample': 0.7722005982569977, 'colsample_bytree': 0.5097379283750534}. Best is trial 32 with value: 33.85668206634886.\n",
      "[I 2025-06-11 09:48:29,434] Trial 42 finished with value: 34.638444221298876 and parameters: {'n_estimators': 95, 'max_depth': 8, 'learning_rate': 0.27808335747226653, 'subsample': 0.7057343629297832, 'colsample_bytree': 0.93843439607514}. Best is trial 32 with value: 33.85668206634886.\n",
      "[I 2025-06-11 09:48:33,495] Trial 43 finished with value: 35.754605007341254 and parameters: {'n_estimators': 90, 'max_depth': 6, 'learning_rate': 0.2403941632244066, 'subsample': 0.5315902142423328, 'colsample_bytree': 0.6800290146618764}. Best is trial 32 with value: 33.85668206634886.\n",
      "[I 2025-06-11 09:48:39,779] Trial 44 finished with value: 35.44416292728239 and parameters: {'n_estimators': 97, 'max_depth': 8, 'learning_rate': 0.21603054897315796, 'subsample': 0.8235860894574614, 'colsample_bytree': 0.5552500862687473}. Best is trial 32 with value: 33.85668206634886.\n",
      "[I 2025-06-11 09:48:45,041] Trial 45 finished with value: 34.363985255854445 and parameters: {'n_estimators': 100, 'max_depth': 7, 'learning_rate': 0.2846945439344189, 'subsample': 0.5947410234374119, 'colsample_bytree': 0.5734146363751726}. Best is trial 32 with value: 33.85668206634886.\n",
      "[I 2025-06-11 09:48:52,146] Trial 46 finished with value: 34.14429098330545 and parameters: {'n_estimators': 93, 'max_depth': 9, 'learning_rate': 0.28520747694636917, 'subsample': 0.6393302473319465, 'colsample_bytree': 0.5800226645056414}. Best is trial 32 with value: 33.85668206634886.\n",
      "[I 2025-06-11 09:48:59,392] Trial 47 finished with value: 34.49755571275863 and parameters: {'n_estimators': 85, 'max_depth': 9, 'learning_rate': 0.2857716202110878, 'subsample': 0.7646744924581665, 'colsample_bytree': 0.5195197125822516}. Best is trial 32 with value: 33.85668206634886.\n",
      "[I 2025-06-11 09:49:06,831] Trial 48 finished with value: 38.24477656783391 and parameters: {'n_estimators': 68, 'max_depth': 10, 'learning_rate': 0.14587453041577753, 'subsample': 0.6382191980963414, 'colsample_bytree': 0.5868860963906531}. Best is trial 32 with value: 33.85668206634886.\n",
      "[I 2025-06-11 09:49:14,619] Trial 49 finished with value: 34.69523194425388 and parameters: {'n_estimators': 91, 'max_depth': 9, 'learning_rate': 0.2459001247563677, 'subsample': 0.7160277666498567, 'colsample_bytree': 0.619413371968497}. Best is trial 32 with value: 33.85668206634886.\n",
      "[I 2025-06-11 09:49:19,355] A new study created in memory with name: no-name-a1b26f08-d8ce-44c8-af13-281a3dc02572\n"
     ]
    },
    {
     "name": "stdout",
     "output_type": "stream",
     "text": [
      "Optimizing quantile 0.5\n"
     ]
    },
    {
     "name": "stderr",
     "output_type": "stream",
     "text": [
      "[I 2025-06-11 09:49:27,353] Trial 0 finished with value: 19.242568055976193 and parameters: {'n_estimators': 89, 'max_depth': 5, 'learning_rate': 0.12843169219313133, 'subsample': 0.7663428236625457, 'colsample_bytree': 0.8578870906646269}. Best is trial 0 with value: 19.242568055976193.\n",
      "[I 2025-06-11 09:49:42,209] Trial 1 finished with value: 19.903904498104403 and parameters: {'n_estimators': 63, 'max_depth': 9, 'learning_rate': 0.18144995178921888, 'subsample': 0.662407880877339, 'colsample_bytree': 0.823142902719409}. Best is trial 0 with value: 19.242568055976193.\n",
      "[I 2025-06-11 09:49:51,106] Trial 2 finished with value: 19.275104117676918 and parameters: {'n_estimators': 73, 'max_depth': 7, 'learning_rate': 0.12131675983909423, 'subsample': 0.9631812691237027, 'colsample_bytree': 0.8772797110065857}. Best is trial 0 with value: 19.242568055976193.\n",
      "[I 2025-06-11 09:50:05,294] Trial 3 finished with value: 20.13579547743203 and parameters: {'n_estimators': 60, 'max_depth': 9, 'learning_rate': 0.2365553242287643, 'subsample': 0.8129869956869975, 'colsample_bytree': 0.6632271236374732}. Best is trial 0 with value: 19.242568055976193.\n",
      "[I 2025-06-11 09:50:08,743] Trial 4 finished with value: 19.804686843673096 and parameters: {'n_estimators': 55, 'max_depth': 5, 'learning_rate': 0.15361947882066487, 'subsample': 0.7806926577307173, 'colsample_bytree': 0.831774650190793}. Best is trial 0 with value: 19.242568055976193.\n",
      "[I 2025-06-11 09:50:22,251] Trial 5 finished with value: 20.19036625579418 and parameters: {'n_estimators': 67, 'max_depth': 9, 'learning_rate': 0.185288031555373, 'subsample': 0.7313869085534799, 'colsample_bytree': 0.8469126718283995}. Best is trial 0 with value: 19.242568055976193.\n",
      "[I 2025-06-11 09:50:24,421] Trial 6 finished with value: 20.732009264895485 and parameters: {'n_estimators': 48, 'max_depth': 3, 'learning_rate': 0.2635026873193455, 'subsample': 0.8595711655251145, 'colsample_bytree': 0.6922820098009478}. Best is trial 0 with value: 19.242568055976193.\n",
      "[I 2025-06-11 09:50:41,347] Trial 7 finished with value: 19.660327946555718 and parameters: {'n_estimators': 69, 'max_depth': 10, 'learning_rate': 0.09172291489301133, 'subsample': 0.9134063060243066, 'colsample_bytree': 0.6452704408131376}. Best is trial 0 with value: 19.242568055976193.\n",
      "[I 2025-06-11 09:50:49,907] Trial 8 finished with value: 19.588944389471404 and parameters: {'n_estimators': 70, 'max_depth': 8, 'learning_rate': 0.19607443350365264, 'subsample': 0.9848575902440848, 'colsample_bytree': 0.6272244385752196}. Best is trial 0 with value: 19.242568055976193.\n",
      "[I 2025-06-11 09:50:57,225] Trial 9 finished with value: 19.299801325694972 and parameters: {'n_estimators': 96, 'max_depth': 6, 'learning_rate': 0.18821030343543046, 'subsample': 0.7275455156616177, 'colsample_bytree': 0.5286670355743431}. Best is trial 0 with value: 19.242568055976193.\n",
      "[I 2025-06-11 09:51:01,194] Trial 10 finished with value: 26.902561064618464 and parameters: {'n_estimators': 93, 'max_depth': 3, 'learning_rate': 0.0162344622004561, 'subsample': 0.515376885956308, 'colsample_bytree': 0.9751487821351943}. Best is trial 0 with value: 19.242568055976193.\n",
      "[I 2025-06-11 09:51:06,883] Trial 11 finished with value: 19.4135942267152 and parameters: {'n_estimators': 82, 'max_depth': 5, 'learning_rate': 0.11225737422682419, 'subsample': 0.5944423743608087, 'colsample_bytree': 0.954928861665451}. Best is trial 0 with value: 19.242568055976193.\n",
      "[I 2025-06-11 09:51:15,179] Trial 12 finished with value: 19.19492936872955 and parameters: {'n_estimators': 83, 'max_depth': 7, 'learning_rate': 0.08715575950373457, 'subsample': 0.9953859554369104, 'colsample_bytree': 0.9033002358877493}. Best is trial 12 with value: 19.19492936872955.\n",
      "[I 2025-06-11 09:51:19,662] Trial 13 finished with value: 20.60092319026804 and parameters: {'n_estimators': 84, 'max_depth': 5, 'learning_rate': 0.0487060925460553, 'subsample': 0.864645506194924, 'colsample_bytree': 0.7655082131453097}. Best is trial 12 with value: 19.19492936872955.\n",
      "[I 2025-06-11 09:51:29,041] Trial 14 finished with value: 19.676156832436664 and parameters: {'n_estimators': 84, 'max_depth': 7, 'learning_rate': 0.06004370199253978, 'subsample': 0.6451497502293511, 'colsample_bytree': 0.8974977455019313}. Best is trial 12 with value: 19.19492936872955.\n",
      "[I 2025-06-11 09:51:32,679] Trial 15 finished with value: 20.494954198092135 and parameters: {'n_estimators': 99, 'max_depth': 4, 'learning_rate': 0.07186097256025904, 'subsample': 0.9164758492653232, 'colsample_bytree': 0.7627441212712598}. Best is trial 12 with value: 19.19492936872955.\n",
      "[I 2025-06-11 09:51:37,860] Trial 16 finished with value: 19.308624894470405 and parameters: {'n_estimators': 78, 'max_depth': 6, 'learning_rate': 0.13868743665145133, 'subsample': 0.5300659680442849, 'colsample_bytree': 0.9319731318591645}. Best is trial 12 with value: 19.19492936872955.\n",
      "[I 2025-06-11 09:51:47,419] Trial 17 finished with value: 25.94629129085486 and parameters: {'n_estimators': 91, 'max_depth': 7, 'learning_rate': 0.014300810657393553, 'subsample': 0.6679150268060101, 'colsample_bytree': 0.9873442689518643}. Best is trial 12 with value: 19.19492936872955.\n",
      "[I 2025-06-11 09:51:51,670] Trial 18 finished with value: 20.07436166178081 and parameters: {'n_estimators': 90, 'max_depth': 4, 'learning_rate': 0.09603575045305061, 'subsample': 0.8379858719603313, 'colsample_bytree': 0.8023368250821059}. Best is trial 12 with value: 19.19492936872955.\n",
      "[I 2025-06-11 09:52:07,914] Trial 19 finished with value: 19.75988694443998 and parameters: {'n_estimators': 77, 'max_depth': 8, 'learning_rate': 0.22274232296163834, 'subsample': 0.9415074830055625, 'colsample_bytree': 0.9059151608554864}. Best is trial 12 with value: 19.19492936872955.\n",
      "[I 2025-06-11 09:52:14,391] Trial 20 finished with value: 19.2573210247956 and parameters: {'n_estimators': 88, 'max_depth': 6, 'learning_rate': 0.14638680602540696, 'subsample': 0.5911169427392907, 'colsample_bytree': 0.7164428311962934}. Best is trial 12 with value: 19.19492936872955.\n",
      "[I 2025-06-11 09:52:19,680] Trial 21 finished with value: 19.044470201660303 and parameters: {'n_estimators': 88, 'max_depth': 6, 'learning_rate': 0.13032920366433548, 'subsample': 0.5822219038692606, 'colsample_bytree': 0.7211396774282871}. Best is trial 21 with value: 19.044470201660303.\n",
      "[I 2025-06-11 09:52:23,820] Trial 22 finished with value: 19.19410909065703 and parameters: {'n_estimators': 86, 'max_depth': 5, 'learning_rate': 0.12137391064452402, 'subsample': 0.5908482339340635, 'colsample_bytree': 0.5826660207159966}. Best is trial 21 with value: 19.044470201660303.\n",
      "[I 2025-06-11 09:52:25,756] Trial 23 finished with value: 21.778482249696935 and parameters: {'n_estimators': 40, 'max_depth': 4, 'learning_rate': 0.08813314734845185, 'subsample': 0.5832891436397041, 'colsample_bytree': 0.5729538825477196}. Best is trial 21 with value: 19.044470201660303.\n",
      "[I 2025-06-11 09:52:33,412] Trial 24 finished with value: 21.312475827824787 and parameters: {'n_estimators': 77, 'max_depth': 8, 'learning_rate': 0.2980387769580499, 'subsample': 0.5456766870196783, 'colsample_bytree': 0.5918811064113843}. Best is trial 21 with value: 19.044470201660303.\n",
      "[I 2025-06-11 09:52:39,352] Trial 25 finished with value: 20.322750117112307 and parameters: {'n_estimators': 81, 'max_depth': 6, 'learning_rate': 0.04435648328047147, 'subsample': 0.708218161632705, 'colsample_bytree': 0.5405123975056707}. Best is trial 21 with value: 19.044470201660303.\n",
      "[I 2025-06-11 09:52:46,161] Trial 26 finished with value: 19.16527377497566 and parameters: {'n_estimators': 100, 'max_depth': 6, 'learning_rate': 0.10462930714675008, 'subsample': 0.6095972698438239, 'colsample_bytree': 0.7218627419523345}. Best is trial 21 with value: 19.044470201660303.\n",
      "[I 2025-06-11 09:52:52,312] Trial 27 finished with value: 19.397188019241483 and parameters: {'n_estimators': 100, 'max_depth': 5, 'learning_rate': 0.16595186689152805, 'subsample': 0.574474464717047, 'colsample_bytree': 0.7115865046216947}. Best is trial 21 with value: 19.044470201660303.\n",
      "[I 2025-06-11 09:52:56,430] Trial 28 finished with value: 19.78381981670384 and parameters: {'n_estimators': 95, 'max_depth': 4, 'learning_rate': 0.10989085257453585, 'subsample': 0.6271858104413441, 'colsample_bytree': 0.6086199895625495}. Best is trial 21 with value: 19.044470201660303.\n"
     ]
    },
    {
     "name": "stderr",
     "output_type": "stream",
     "text": [
      "[I 2025-06-11 09:53:02,382] Trial 29 finished with value: 19.239878883706112 and parameters: {'n_estimators': 88, 'max_depth': 5, 'learning_rate': 0.1361647018828225, 'subsample': 0.6853500152379157, 'colsample_bytree': 0.676491279759424}. Best is trial 21 with value: 19.044470201660303.\n",
      "[I 2025-06-11 09:53:10,919] Trial 30 finished with value: 18.985998378801415 and parameters: {'n_estimators': 98, 'max_depth': 6, 'learning_rate': 0.11897090785120107, 'subsample': 0.6176554056864532, 'colsample_bytree': 0.7350016803998634}. Best is trial 30 with value: 18.985998378801415.\n",
      "[I 2025-06-11 09:53:17,459] Trial 31 finished with value: 19.201253477666494 and parameters: {'n_estimators': 97, 'max_depth': 6, 'learning_rate': 0.12224345343433318, 'subsample': 0.6208561956960461, 'colsample_bytree': 0.7361687823007494}. Best is trial 30 with value: 18.985998378801415.\n",
      "[I 2025-06-11 09:53:24,238] Trial 32 finished with value: 19.25077166402503 and parameters: {'n_estimators': 93, 'max_depth': 6, 'learning_rate': 0.16458415928874146, 'subsample': 0.5493521255714618, 'colsample_bytree': 0.8032891932686224}. Best is trial 30 with value: 18.985998378801415.\n",
      "[I 2025-06-11 09:53:28,442] Trial 33 finished with value: 19.404134433456733 and parameters: {'n_estimators': 88, 'max_depth': 5, 'learning_rate': 0.10534693912202193, 'subsample': 0.5059299141132987, 'colsample_bytree': 0.7829517648205842}. Best is trial 30 with value: 18.985998378801415.\n",
      "[I 2025-06-11 09:53:37,306] Trial 34 finished with value: 18.97370787675168 and parameters: {'n_estimators': 100, 'max_depth': 7, 'learning_rate': 0.12891356031381787, 'subsample': 0.618432587382319, 'colsample_bytree': 0.7354865281836628}. Best is trial 34 with value: 18.97370787675168.\n",
      "[I 2025-06-11 09:53:46,706] Trial 35 finished with value: 19.099799927218847 and parameters: {'n_estimators': 97, 'max_depth': 7, 'learning_rate': 0.07427188706769033, 'subsample': 0.6375714908707327, 'colsample_bytree': 0.735045494973864}. Best is trial 34 with value: 18.97370787675168.\n",
      "[I 2025-06-11 09:54:00,458] Trial 36 finished with value: 19.210264020110415 and parameters: {'n_estimators': 94, 'max_depth': 8, 'learning_rate': 0.06645452140009023, 'subsample': 0.7725922697395183, 'colsample_bytree': 0.747115196746755}. Best is trial 34 with value: 18.97370787675168.\n",
      "[I 2025-06-11 09:54:09,176] Trial 37 finished with value: 20.378431183048214 and parameters: {'n_estimators': 97, 'max_depth': 7, 'learning_rate': 0.031624779402338876, 'subsample': 0.6445938479372989, 'colsample_bytree': 0.6866922070527351}. Best is trial 34 with value: 18.97370787675168.\n",
      "[I 2025-06-11 09:54:19,799] Trial 38 finished with value: 19.037276015673317 and parameters: {'n_estimators': 92, 'max_depth': 7, 'learning_rate': 0.07760254574280968, 'subsample': 0.6932003717670162, 'colsample_bytree': 0.6549751570629742}. Best is trial 34 with value: 18.97370787675168.\n",
      "[I 2025-06-11 09:54:29,320] Trial 39 finished with value: 19.68495170278233 and parameters: {'n_estimators': 59, 'max_depth': 9, 'learning_rate': 0.16789557915545825, 'subsample': 0.6847168058807268, 'colsample_bytree': 0.6608338855949842}. Best is trial 34 with value: 18.97370787675168.\n",
      "[I 2025-06-11 09:54:38,865] Trial 40 finished with value: 20.267801603416157 and parameters: {'n_estimators': 93, 'max_depth': 8, 'learning_rate': 0.20773959473077672, 'subsample': 0.557949296346057, 'colsample_bytree': 0.6403255465960168}. Best is trial 34 with value: 18.97370787675168.\n",
      "[I 2025-06-11 09:54:47,413] Trial 41 finished with value: 18.913538301386133 and parameters: {'n_estimators': 98, 'max_depth': 7, 'learning_rate': 0.08439008521074558, 'subsample': 0.647607494717152, 'colsample_bytree': 0.7014241510243016}. Best is trial 41 with value: 18.913538301386133.\n",
      "[I 2025-06-11 09:54:56,397] Trial 42 finished with value: 18.99893411080157 and parameters: {'n_estimators': 91, 'max_depth': 7, 'learning_rate': 0.12913913401683952, 'subsample': 0.7037916824655673, 'colsample_bytree': 0.700345620487388}. Best is trial 41 with value: 18.913538301386133.\n",
      "[I 2025-06-11 09:55:03,901] Trial 43 finished with value: 19.02584697660864 and parameters: {'n_estimators': 91, 'max_depth': 7, 'learning_rate': 0.0783055402873348, 'subsample': 0.7383835259766782, 'colsample_bytree': 0.694523895921517}. Best is trial 41 with value: 18.913538301386133.\n",
      "[I 2025-06-11 09:55:15,097] Trial 44 finished with value: 19.502079129992026 and parameters: {'n_estimators': 98, 'max_depth': 8, 'learning_rate': 0.149208654537149, 'subsample': 0.7463524781938012, 'colsample_bytree': 0.6926999055111996}. Best is trial 41 with value: 18.913538301386133.\n",
      "[I 2025-06-11 09:55:30,832] Trial 45 finished with value: 19.32525208016981 and parameters: {'n_estimators': 100, 'max_depth': 9, 'learning_rate': 0.04989308295585855, 'subsample': 0.7212592141595905, 'colsample_bytree': 0.8491696538105599}. Best is trial 41 with value: 18.913538301386133.\n",
      "[I 2025-06-11 09:55:40,439] Trial 46 finished with value: 18.951579340802834 and parameters: {'n_estimators': 95, 'max_depth': 7, 'learning_rate': 0.09762095982111788, 'subsample': 0.6615353617626856, 'colsample_bytree': 0.7795727832672874}. Best is trial 41 with value: 18.913538301386133.\n",
      "[I 2025-06-11 09:55:49,472] Trial 47 finished with value: 18.92697791155986 and parameters: {'n_estimators': 95, 'max_depth': 7, 'learning_rate': 0.11554230485430378, 'subsample': 0.6653212206620439, 'colsample_bytree': 0.8151268816033478}. Best is trial 41 with value: 18.913538301386133.\n",
      "[I 2025-06-11 09:56:00,707] Trial 48 finished with value: 19.312631994178815 and parameters: {'n_estimators': 95, 'max_depth': 8, 'learning_rate': 0.09887257666876148, 'subsample': 0.6656569403255748, 'colsample_bytree': 0.8292206601287149}. Best is trial 41 with value: 18.913538301386133.\n",
      "[I 2025-06-11 09:56:06,885] Trial 49 finished with value: 19.124618456454716 and parameters: {'n_estimators': 72, 'max_depth': 7, 'learning_rate': 0.1186447827976109, 'subsample': 0.7936626844494294, 'colsample_bytree': 0.8698379343651694}. Best is trial 41 with value: 18.913538301386133.\n",
      "[I 2025-06-11 09:56:14,333] A new study created in memory with name: no-name-be8228b8-69cf-4563-87c1-40ab0b515e80\n"
     ]
    },
    {
     "name": "stdout",
     "output_type": "stream",
     "text": [
      "Optimizing quantile 0.95\n"
     ]
    },
    {
     "name": "stderr",
     "output_type": "stream",
     "text": [
      "[I 2025-06-11 09:56:18,641] Trial 0 finished with value: 73.14357515054752 and parameters: {'n_estimators': 71, 'max_depth': 7, 'learning_rate': 0.034445923004289274, 'subsample': 0.7405260459581609, 'colsample_bytree': 0.5020712061359165}. Best is trial 0 with value: 73.14357515054752.\n",
      "[I 2025-06-11 09:56:21,204] Trial 1 finished with value: 56.63667056725417 and parameters: {'n_estimators': 82, 'max_depth': 3, 'learning_rate': 0.25755051038839916, 'subsample': 0.6310315192269483, 'colsample_bytree': 0.5372544650168829}. Best is trial 1 with value: 56.63667056725417.\n",
      "[I 2025-06-11 09:56:30,115] Trial 2 finished with value: 66.44988424427571 and parameters: {'n_estimators': 98, 'max_depth': 9, 'learning_rate': 0.028172061407842994, 'subsample': 0.7373467898960023, 'colsample_bytree': 0.5395690423401691}. Best is trial 1 with value: 56.63667056725417.\n",
      "[I 2025-06-11 09:56:32,304] Trial 3 finished with value: 54.18680839937084 and parameters: {'n_estimators': 55, 'max_depth': 5, 'learning_rate': 0.2452803567487533, 'subsample': 0.8808995856077377, 'colsample_bytree': 0.5298933008729483}. Best is trial 3 with value: 54.18680839937084.\n",
      "[I 2025-06-11 09:56:36,279] Trial 4 finished with value: 69.8096576393853 and parameters: {'n_estimators': 42, 'max_depth': 9, 'learning_rate': 0.060382601692217396, 'subsample': 0.7052281732323709, 'colsample_bytree': 0.8077453978948835}. Best is trial 3 with value: 54.18680839937084.\n",
      "[I 2025-06-11 09:56:40,538] Trial 5 finished with value: 57.993184560726284 and parameters: {'n_estimators': 58, 'max_depth': 8, 'learning_rate': 0.07179956190511604, 'subsample': 0.537292000659565, 'colsample_bytree': 0.7383351096877031}. Best is trial 3 with value: 54.18680839937084.\n",
      "[I 2025-06-11 09:56:43,669] Trial 6 finished with value: 54.38001363634719 and parameters: {'n_estimators': 90, 'max_depth': 4, 'learning_rate': 0.2857195913320699, 'subsample': 0.919375348778529, 'colsample_bytree': 0.9128467280369946}. Best is trial 3 with value: 54.18680839937084.\n",
      "[I 2025-06-11 09:56:47,059] Trial 7 finished with value: 54.01437197116335 and parameters: {'n_estimators': 79, 'max_depth': 5, 'learning_rate': 0.14958477533132333, 'subsample': 0.8955960519407837, 'colsample_bytree': 0.8284679282428615}. Best is trial 7 with value: 54.01437197116335.\n",
      "[I 2025-06-11 09:56:53,359] Trial 8 finished with value: 43.480158598089766 and parameters: {'n_estimators': 67, 'max_depth': 10, 'learning_rate': 0.2884272456728829, 'subsample': 0.5285348931744687, 'colsample_bytree': 0.7496360087998641}. Best is trial 8 with value: 43.480158598089766.\n",
      "[I 2025-06-11 09:56:56,051] Trial 9 finished with value: 56.08870320278904 and parameters: {'n_estimators': 61, 'max_depth': 4, 'learning_rate': 0.1333661421169804, 'subsample': 0.6703523045748554, 'colsample_bytree': 0.7737555481924456}. Best is trial 8 with value: 43.480158598089766.\n",
      "[I 2025-06-11 09:56:59,810] Trial 10 finished with value: 47.17996174430297 and parameters: {'n_estimators': 41, 'max_depth': 10, 'learning_rate': 0.2064442037819641, 'subsample': 0.5202043898495126, 'colsample_bytree': 0.6770685908820822}. Best is trial 8 with value: 43.480158598089766.\n",
      "[I 2025-06-11 09:57:03,837] Trial 11 finished with value: 47.54546388521662 and parameters: {'n_estimators': 40, 'max_depth': 10, 'learning_rate': 0.20812036326223843, 'subsample': 0.5039947791855854, 'colsample_bytree': 0.6643374433688163}. Best is trial 8 with value: 43.480158598089766.\n",
      "[I 2025-06-11 09:57:08,290] Trial 12 finished with value: 46.34208158501974 and parameters: {'n_estimators': 50, 'max_depth': 10, 'learning_rate': 0.19234950038517526, 'subsample': 0.596892127690955, 'colsample_bytree': 0.6482209540694507}. Best is trial 8 with value: 43.480158598089766.\n",
      "[I 2025-06-11 09:57:11,783] Trial 13 finished with value: 48.89638392193517 and parameters: {'n_estimators': 51, 'max_depth': 8, 'learning_rate': 0.19821418448603853, 'subsample': 0.5966530012977824, 'colsample_bytree': 0.6346995033067983}. Best is trial 8 with value: 43.480158598089766.\n",
      "[I 2025-06-11 09:57:18,108] Trial 14 finished with value: 42.28022908422377 and parameters: {'n_estimators': 67, 'max_depth': 10, 'learning_rate': 0.2878593868067547, 'subsample': 0.5616424559067099, 'colsample_bytree': 0.9510633482619644}. Best is trial 14 with value: 42.28022908422377.\n",
      "[I 2025-06-11 09:57:22,623] Trial 15 finished with value: 48.42289344293068 and parameters: {'n_estimators': 68, 'max_depth': 7, 'learning_rate': 0.29957911520566693, 'subsample': 0.8148931626677747, 'colsample_bytree': 0.999494379729349}. Best is trial 14 with value: 42.28022908422377.\n",
      "[I 2025-06-11 09:57:28,803] Trial 16 finished with value: 45.03196352373283 and parameters: {'n_estimators': 71, 'max_depth': 9, 'learning_rate': 0.25124519184439, 'subsample': 0.5767172442407889, 'colsample_bytree': 0.889093263989956}. Best is trial 14 with value: 42.28022908422377.\n",
      "[I 2025-06-11 09:57:34,291] Trial 17 finished with value: 49.10038564500616 and parameters: {'n_estimators': 65, 'max_depth': 8, 'learning_rate': 0.11665570672771534, 'subsample': 0.9987050757263726, 'colsample_bytree': 0.981649019792711}. Best is trial 14 with value: 42.28022908422377.\n",
      "[I 2025-06-11 09:57:38,568] Trial 18 finished with value: 49.78697890253249 and parameters: {'n_estimators': 79, 'max_depth': 6, 'learning_rate': 0.27144644490962744, 'subsample': 0.6501843713157849, 'colsample_bytree': 0.8915108986503735}. Best is trial 14 with value: 42.28022908422377.\n",
      "[I 2025-06-11 09:57:46,646] Trial 19 finished with value: 42.256165888536216 and parameters: {'n_estimators': 85, 'max_depth': 10, 'learning_rate': 0.23419402084029917, 'subsample': 0.5620544977796494, 'colsample_bytree': 0.7204810303174298}. Best is trial 19 with value: 42.256165888536216.\n",
      "[I 2025-06-11 09:57:53,368] Trial 20 finished with value: 44.70169031056616 and parameters: {'n_estimators': 88, 'max_depth': 9, 'learning_rate': 0.22554925609937643, 'subsample': 0.8083384748596343, 'colsample_bytree': 0.59761984105612}. Best is trial 19 with value: 42.256165888536216.\n",
      "[I 2025-06-11 09:58:00,304] Trial 21 finished with value: 43.37504330870054 and parameters: {'n_estimators': 75, 'max_depth': 10, 'learning_rate': 0.2999787062497254, 'subsample': 0.5654035588207301, 'colsample_bytree': 0.7293617260011669}. Best is trial 19 with value: 42.256165888536216.\n",
      "[I 2025-06-11 09:58:06,377] Trial 22 finished with value: 43.03319155920823 and parameters: {'n_estimators': 75, 'max_depth': 10, 'learning_rate': 0.23435612367326666, 'subsample': 0.5675922562162923, 'colsample_bytree': 0.7041888949621508}. Best is trial 19 with value: 42.256165888536216.\n",
      "[I 2025-06-11 09:58:12,688] Trial 23 finished with value: 45.701722221896695 and parameters: {'n_estimators': 86, 'max_depth': 9, 'learning_rate': 0.17367755248323116, 'subsample': 0.630325619268049, 'colsample_bytree': 0.6998562872749813}. Best is trial 19 with value: 42.256165888536216.\n",
      "[I 2025-06-11 09:58:18,904] Trial 24 finished with value: 45.859126265316945 and parameters: {'n_estimators': 96, 'max_depth': 8, 'learning_rate': 0.22321425077674706, 'subsample': 0.6797157689289333, 'colsample_bytree': 0.8202499310278786}. Best is trial 19 with value: 42.256165888536216.\n",
      "[I 2025-06-11 09:58:25,092] Trial 25 finished with value: 43.974365987059706 and parameters: {'n_estimators': 75, 'max_depth': 10, 'learning_rate': 0.23781927778857836, 'subsample': 0.5615333358637493, 'colsample_bytree': 0.597147476321408}. Best is trial 19 with value: 42.256165888536216.\n",
      "[I 2025-06-11 09:58:31,942] Trial 26 finished with value: 43.83815987879673 and parameters: {'n_estimators': 83, 'max_depth': 9, 'learning_rate': 0.26128927840522354, 'subsample': 0.616294928246813, 'colsample_bytree': 0.9432718523688962}. Best is trial 19 with value: 42.256165888536216.\n",
      "[I 2025-06-11 09:58:37,339] Trial 27 finished with value: 48.08348520317407 and parameters: {'n_estimators': 92, 'max_depth': 7, 'learning_rate': 0.16588666681019418, 'subsample': 0.5584272564421522, 'colsample_bytree': 0.710519129940836}. Best is trial 19 with value: 42.256165888536216.\n",
      "[I 2025-06-11 09:58:43,860] Trial 28 finished with value: 43.926386772005976 and parameters: {'n_estimators': 63, 'max_depth': 10, 'learning_rate': 0.2788048056626782, 'subsample': 0.6934945288296768, 'colsample_bytree': 0.7885461817570889}. Best is trial 19 with value: 42.256165888536216.\n"
     ]
    },
    {
     "name": "stderr",
     "output_type": "stream",
     "text": [
      "[I 2025-06-11 09:58:47,338] Trial 29 finished with value: 51.97622274953969 and parameters: {'n_estimators': 71, 'max_depth': 6, 'learning_rate': 0.2215898297063523, 'subsample': 0.7732195673698868, 'colsample_bytree': 0.8518105807789105}. Best is trial 19 with value: 42.256165888536216.\n",
      "[I 2025-06-11 09:58:51,604] Trial 30 finished with value: 49.27119726488844 and parameters: {'n_estimators': 74, 'max_depth': 7, 'learning_rate': 0.18154778478834227, 'subsample': 0.7266842909810178, 'colsample_bytree': 0.6114039866919254}. Best is trial 19 with value: 42.256165888536216.\n",
      "[I 2025-06-11 09:58:59,127] Trial 31 finished with value: 41.815512422010606 and parameters: {'n_estimators': 78, 'max_depth': 10, 'learning_rate': 0.2990281559799618, 'subsample': 0.5680954686338603, 'colsample_bytree': 0.7186387309778797}. Best is trial 31 with value: 41.815512422010606.\n",
      "[I 2025-06-11 09:59:05,116] Trial 32 finished with value: 43.872624958282934 and parameters: {'n_estimators': 81, 'max_depth': 9, 'learning_rate': 0.2713035871538456, 'subsample': 0.5006073239779604, 'colsample_bytree': 0.6990643147346429}. Best is trial 31 with value: 41.815512422010606.\n",
      "[I 2025-06-11 09:59:12,807] Trial 33 finished with value: 41.489772999175 and parameters: {'n_estimators': 85, 'max_depth': 10, 'learning_rate': 0.2562794619131016, 'subsample': 0.5971084748575561, 'colsample_bytree': 0.7566493465639283}. Best is trial 33 with value: 41.489772999175.\n",
      "[I 2025-06-11 09:59:20,169] Trial 34 finished with value: 42.81114814944501 and parameters: {'n_estimators': 95, 'max_depth': 10, 'learning_rate': 0.25882749344324824, 'subsample': 0.6048752123822086, 'colsample_bytree': 0.7740780652284954}. Best is trial 33 with value: 41.489772999175.\n",
      "[I 2025-06-11 09:59:29,138] Trial 35 finished with value: 93.75707346011994 and parameters: {'n_estimators': 100, 'max_depth': 9, 'learning_rate': 0.010891131262653592, 'subsample': 0.6438735691208941, 'colsample_bytree': 0.5647954875553061}. Best is trial 33 with value: 41.489772999175.\n",
      "[I 2025-06-11 09:59:34,406] Trial 36 finished with value: 47.24134843157073 and parameters: {'n_estimators': 83, 'max_depth': 8, 'learning_rate': 0.24658033663238582, 'subsample': 0.5440051892684705, 'colsample_bytree': 0.9514474465553088}. Best is trial 33 with value: 41.489772999175.\n",
      "[I 2025-06-11 09:59:41,455] Trial 37 finished with value: 44.054280178622484 and parameters: {'n_estimators': 85, 'max_depth': 9, 'learning_rate': 0.2709618857402527, 'subsample': 0.5900472590411985, 'colsample_bytree': 0.8534006760285057}. Best is trial 33 with value: 41.489772999175.\n",
      "[I 2025-06-11 09:59:44,118] Trial 38 finished with value: 57.442644953109344 and parameters: {'n_estimators': 92, 'max_depth': 3, 'learning_rate': 0.28858277238999336, 'subsample': 0.6618415715211365, 'colsample_bytree': 0.7612203013650078}. Best is trial 33 with value: 41.489772999175.\n",
      "[I 2025-06-11 09:59:51,513] Trial 39 finished with value: 47.613547623604106 and parameters: {'n_estimators': 79, 'max_depth': 10, 'learning_rate': 0.08322442887852999, 'subsample': 0.5340306004152343, 'colsample_bytree': 0.7987242833968868}. Best is trial 33 with value: 41.489772999175.\n",
      "[I 2025-06-11 09:59:58,380] Trial 40 finished with value: 43.918229234871326 and parameters: {'n_estimators': 88, 'max_depth': 9, 'learning_rate': 0.25637664837755203, 'subsample': 0.6213636550690753, 'colsample_bytree': 0.7303747486323279}. Best is trial 33 with value: 41.489772999175.\n",
      "[I 2025-06-11 10:00:06,101] Trial 41 finished with value: 41.60940108551115 and parameters: {'n_estimators': 97, 'max_depth': 10, 'learning_rate': 0.2586021569735042, 'subsample': 0.6069011160466333, 'colsample_bytree': 0.7754450561163528}. Best is trial 33 with value: 41.489772999175.\n",
      "[I 2025-06-11 10:00:13,728] Trial 42 finished with value: 43.102178271872766 and parameters: {'n_estimators': 93, 'max_depth': 10, 'learning_rate': 0.2836962813383736, 'subsample': 0.6293853485492241, 'colsample_bytree': 0.7526946501408417}. Best is trial 33 with value: 41.489772999175.\n",
      "[I 2025-06-11 10:00:20,578] Trial 43 finished with value: 41.70693417193223 and parameters: {'n_estimators': 100, 'max_depth': 10, 'learning_rate': 0.2643137170110619, 'subsample': 0.5419918254274232, 'colsample_bytree': 0.500037073287239}. Best is trial 33 with value: 41.489772999175.\n",
      "[I 2025-06-11 10:00:27,151] Trial 44 finished with value: 44.147296891724345 and parameters: {'n_estimators': 97, 'max_depth': 9, 'learning_rate': 0.2395419588383175, 'subsample': 0.5199509272272461, 'colsample_bytree': 0.5077732025070263}. Best is trial 33 with value: 41.489772999175.\n",
      "[I 2025-06-11 10:00:34,433] Trial 45 finished with value: 41.8185634942838 and parameters: {'n_estimators': 100, 'max_depth': 10, 'learning_rate': 0.2685827797179626, 'subsample': 0.5990995341226453, 'colsample_bytree': 0.6811812936351447}. Best is trial 33 with value: 41.489772999175.\n",
      "[I 2025-06-11 10:00:43,346] Trial 46 finished with value: 41.751464085070474 and parameters: {'n_estimators': 100, 'max_depth': 10, 'learning_rate': 0.26245740360022357, 'subsample': 0.7209604748487222, 'colsample_bytree': 0.8410221707257967}. Best is trial 33 with value: 41.489772999175.\n",
      "[I 2025-06-11 10:00:52,246] Trial 47 finished with value: 43.080437244942964 and parameters: {'n_estimators': 94, 'max_depth': 10, 'learning_rate': 0.21174562329205815, 'subsample': 0.7215162704635357, 'colsample_bytree': 0.8389094997330535}. Best is trial 33 with value: 41.489772999175.\n",
      "[I 2025-06-11 10:00:58,625] Trial 48 finished with value: 45.96229344564745 and parameters: {'n_estimators': 98, 'max_depth': 8, 'learning_rate': 0.29869473818351105, 'subsample': 0.7468782655418631, 'colsample_bytree': 0.8666702150128164}. Best is trial 33 with value: 41.489772999175.\n",
      "[I 2025-06-11 10:01:05,777] Trial 49 finished with value: 44.28057388860829 and parameters: {'n_estimators': 91, 'max_depth': 9, 'learning_rate': 0.2495972527380118, 'subsample': 0.7714660032956406, 'colsample_bytree': 0.8103617249035026}. Best is trial 33 with value: 41.489772999175.\n"
     ]
    },
    {
     "name": "stdout",
     "output_type": "stream",
     "text": [
      "final output = {0.05: {'n_estimators': 100, 'max_depth': 7, 'learning_rate': 0.2800379608945074, 'subsample': 0.5066410120140739, 'colsample_bytree': 0.5356636494795903}, 0.5: {'n_estimators': 98, 'max_depth': 7, 'learning_rate': 0.08439008521074558, 'subsample': 0.647607494717152, 'colsample_bytree': 0.7014241510243016}, 0.95: {'n_estimators': 85, 'max_depth': 10, 'learning_rate': 0.2562794619131016, 'subsample': 0.5971084748575561, 'colsample_bytree': 0.7566493465639283}}\n"
     ]
    }
   ],
   "source": [
    "# --------------------\n",
    "# Optimization and Training\n",
    "# --------------------\n",
    "def optimize_quantile_model(X_train, y_train, X_valid, y_valid, trial, q):\n",
    "\n",
    "    params = {\n",
    "        'n_estimators': trial.suggest_int('n_estimators', 40, 100),\n",
    "        'max_depth': trial.suggest_int('max_depth', 3, 10),\n",
    "        'eta': trial.suggest_float('learning_rate', 0.01, 0.3),\n",
    "        'subsample': trial.suggest_float('subsample', 0.5, 1.0),\n",
    "        'colsample_bytree': trial.suggest_float('colsample_bytree', 0.5, 1.0),\n",
    "        'verbosity': 0\n",
    "    }\n",
    "\n",
    "    model = XGBRegressor(objective=\"reg:quantileerror\", \n",
    "                         quantile_alpha=q,\n",
    "                         **params)\n",
    "    \n",
    "    model.fit(\n",
    "            X_train, y_train,\n",
    "            eval_set = [(X_valid, y_valid)],\n",
    "            verbose=False\n",
    "    )\n",
    "\n",
    "    preds = model.predict(X_valid)\n",
    "    return mean_absolute_error(y_valid, preds)\n",
    "\n",
    "# Run for all quantiles\n",
    "quantiles = [0.05, 0.5, 0.95]\n",
    "#uantiles = [0.5]\n",
    "models = {}\n",
    "\n",
    "for q in quantiles:\n",
    "    print(f\"Optimizing quantile {q}\")\n",
    "    study = optuna.create_study(direction='minimize')\n",
    "    study.optimize(lambda trial: optimize_quantile_model(X_train, y_train, X_valid, y_valid, trial, q), n_trials=50)\n",
    "\n",
    "    best_params = study.best_params\n",
    "    \n",
    "    xgb_regressor = XGBRegressor(**best_params,\n",
    "                                 objective=\"reg:quantileerror\", \n",
    "                                 quantile_alpha = q\n",
    "                                )\n",
    "    xgb_regressor.fit(X_train, y_train)\n",
    "    y_pred = xgb_regressor.predict(X_test)\n",
    "\n",
    "    models[q] = best_params\n",
    "print(f'final output = {models}')"
   ]
  },
  {
   "cell_type": "code",
   "execution_count": 8,
   "id": "8f447ca8",
   "metadata": {},
   "outputs": [
    {
     "name": "stdout",
     "output_type": "stream",
     "text": [
      "predictions for quantile 0.05 are [101.1452    72.57021   76.00291  ...  13.7031    19.792786  13.909708]\n",
      "predictions for quantile 0.5 are [146.26158  136.60692  137.4771   ...  23.805613  23.986979  25.694817]\n",
      "predictions for quantile 0.95 are [209.2664   190.93509  212.94473  ...  30.441378  43.831886  45.099903]\n"
     ]
    }
   ],
   "source": [
    "# --------------------\n",
    "# Predict on Test Set\n",
    "# --------------------\n",
    "quantiles = [0.05, 0.5, 0.95]\n",
    "ypreds = {}\n",
    "for q in quantiles:\n",
    "    xgb_regressor = XGBRegressor(\n",
    "        objective=\"reg:quantileerror\", \n",
    "        quantile_alpha=q,\n",
    "        **models[q]\n",
    "    )\n",
    "    xgb_regressor.fit(X_train, y_train)\n",
    "    y_pred = xgb_regressor.predict(X_test)\n",
    "    ypreds[q] = y_pred\n",
    "    print(f'predictions for quantile {q} are {y_pred}')\n",
    "\n"
   ]
  },
  {
   "cell_type": "code",
   "execution_count": 18,
   "id": "dfad1e8a",
   "metadata": {},
   "outputs": [
    {
     "data": {
      "text/plain": [
       "array([  1.,   2.,   2., ..., 100., 100., 100.], shape=(10096,))"
      ]
     },
     "execution_count": 18,
     "metadata": {},
     "output_type": "execute_result"
    }
   ],
   "source": [
    "uid_test"
   ]
  },
  {
   "cell_type": "code",
   "execution_count": 20,
   "id": "3f7a01bb",
   "metadata": {},
   "outputs": [],
   "source": [
    "df_preds = pd.DataFrame({'unit_no':uid_test, \n",
    "                         'RUL_pred05':ypreds[0.05], \n",
    "                         'RUL_pred5':ypreds[0.5], \n",
    "                         'RUL_pred95':ypreds[0.95],\n",
    "                         'RUL_true':y_test\n",
    "                        })\n",
    "df_preds.to_csv('final_results.txt', index=False)"
   ]
  },
  {
   "cell_type": "code",
   "execution_count": 21,
   "id": "a231932f",
   "metadata": {},
   "outputs": [
    {
     "data": {
      "text/html": [
       "<div>\n",
       "<style scoped>\n",
       "    .dataframe tbody tr th:only-of-type {\n",
       "        vertical-align: middle;\n",
       "    }\n",
       "\n",
       "    .dataframe tbody tr th {\n",
       "        vertical-align: top;\n",
       "    }\n",
       "\n",
       "    .dataframe thead th {\n",
       "        text-align: right;\n",
       "    }\n",
       "</style>\n",
       "<table border=\"1\" class=\"dataframe\">\n",
       "  <thead>\n",
       "    <tr style=\"text-align: right;\">\n",
       "      <th></th>\n",
       "      <th>unit_no</th>\n",
       "      <th>RUL_pred05</th>\n",
       "      <th>RUL_pred5</th>\n",
       "      <th>RUL_pred95</th>\n",
       "      <th>RUL_true</th>\n",
       "    </tr>\n",
       "  </thead>\n",
       "  <tbody>\n",
       "    <tr>\n",
       "      <th>0</th>\n",
       "      <td>1.0</td>\n",
       "      <td>101.145203</td>\n",
       "      <td>146.261581</td>\n",
       "      <td>209.266403</td>\n",
       "      <td>112.0</td>\n",
       "    </tr>\n",
       "    <tr>\n",
       "      <th>1</th>\n",
       "      <td>2.0</td>\n",
       "      <td>72.570213</td>\n",
       "      <td>136.606918</td>\n",
       "      <td>190.935089</td>\n",
       "      <td>116.0</td>\n",
       "    </tr>\n",
       "    <tr>\n",
       "      <th>2</th>\n",
       "      <td>2.0</td>\n",
       "      <td>76.002907</td>\n",
       "      <td>137.477097</td>\n",
       "      <td>212.944733</td>\n",
       "      <td>115.0</td>\n",
       "    </tr>\n",
       "    <tr>\n",
       "      <th>3</th>\n",
       "      <td>2.0</td>\n",
       "      <td>73.526527</td>\n",
       "      <td>134.918915</td>\n",
       "      <td>174.050110</td>\n",
       "      <td>114.0</td>\n",
       "    </tr>\n",
       "    <tr>\n",
       "      <th>4</th>\n",
       "      <td>2.0</td>\n",
       "      <td>82.506424</td>\n",
       "      <td>129.390640</td>\n",
       "      <td>203.851974</td>\n",
       "      <td>113.0</td>\n",
       "    </tr>\n",
       "  </tbody>\n",
       "</table>\n",
       "</div>"
      ],
      "text/plain": [
       "   unit_no  RUL_pred05   RUL_pred5  RUL_pred95  RUL_true\n",
       "0      1.0  101.145203  146.261581  209.266403     112.0\n",
       "1      2.0   72.570213  136.606918  190.935089     116.0\n",
       "2      2.0   76.002907  137.477097  212.944733     115.0\n",
       "3      2.0   73.526527  134.918915  174.050110     114.0\n",
       "4      2.0   82.506424  129.390640  203.851974     113.0"
      ]
     },
     "execution_count": 21,
     "metadata": {},
     "output_type": "execute_result"
    }
   ],
   "source": [
    "df_preds.head()"
   ]
  },
  {
   "cell_type": "code",
   "execution_count": 22,
   "id": "d3c30882",
   "metadata": {},
   "outputs": [],
   "source": [
    "f =open('outfile.txt','w')\n",
    "f.write('%s' %(models))\n",
    "f.write('\\n')\n",
    "for q in quantiles:\n",
    "    f_quant =open('outfile_%s.txt' %(q),'w')\n",
    "    for ypred in ypreds[q]:\n",
    "        f_quant.write('%s \\t %s\\n' %(q, ypred))\n",
    "    f_quant.close()\n",
    "f.close()"
   ]
  },
  {
   "cell_type": "code",
   "execution_count": 23,
   "id": "05af9b68",
   "metadata": {},
   "outputs": [],
   "source": [
    "RUL_per_unit = df_preds.groupby('unit_no').last().reset_index()\n",
    "RUL_per_unit = RUL_per_unit.merge(RUL_labels, on ='unit_no').reset_index()\n",
    "RUL_per_unit = RUL_per_unit.sort_values(by=['RUL'])\n",
    "RUL_per_unit.to_csv('RUL_per_unit.txt', index=False)"
   ]
  },
  {
   "cell_type": "code",
   "execution_count": 30,
   "id": "f6a4678d",
   "metadata": {},
   "outputs": [
    {
     "data": {
      "image/png": "[encoded data removed]",
      "text/plain": [
       "<Figure size 1000x800 with 1 Axes>"
      ]
     },
     "metadata": {},
     "output_type": "display_data"
    }
   ],
   "source": [
    "import matplotlib.pyplot as plt\n",
    "\n",
    "plt.figure(figsize=(10,8))\n",
    "#plt.plot(np.arange(len(RUL_per_unit['RUL'])),RUL_per_unit['RUL'], label='True RUL', color='black', alpha=0.5)\n",
    "#plt.plot(np.arange(len(RUL_per_unit['RUL'])),RUL_per_unit['RUL_pred5'], label='Median (0.5)', color='blue')\n",
    "#plt.fill_between(np.arange(len(RUL_per_unit['RUL'])), RUL_per_unit['RUL_pred05'], RUL_per_unit['RUL_pred95'], color='gray', alpha=0.3, label='90% Interval')\n",
    "\n",
    "#plt.plot(np.arange(len(RUL_per_unit['RUL'])),RUL_per_unit['RUL'], label='True RUL', color='black', alpha=0.5)\n",
    "plt.plot(RUL_per_unit['RUL'],RUL_per_unit['RUL'], label='Perfect prediction', color='black', linestyle = '--')\n",
    "plt.plot(RUL_per_unit['RUL'],RUL_per_unit['RUL_pred5'], label='Median (0.5)', color='blue')\n",
    "plt.fill_between(RUL_per_unit['RUL'], RUL_per_unit['RUL_pred05'], RUL_per_unit['RUL_pred95'], color='gray', alpha=0.3, label='90% Interval')\n",
    "\n",
    "plt.legend()\n",
    "plt.xlabel('RUL true')\n",
    "plt.ylabel('RUL predicted')\n",
    "plt.title('Quantile Prediction vs True RUL')\n",
    "plt.savefig('final_predictions.png')"
   ]
  },
  {
   "cell_type": "markdown",
   "id": "8a0a1816",
   "metadata": {},
   "source": [
    "# Prediction Matrices"
   ]
  },
  {
   "cell_type": "code",
   "execution_count": 32,
   "id": "23e56e36",
   "metadata": {},
   "outputs": [],
   "source": [
    "#1. Coverage (PICP – Prediction Interval Coverage Probability)\n",
    "#Check how often the true value falls within your predicted interval (e.g. between the 5th and 95th percentile).\n",
    "\n",
    "def picp(y_true, q_lower, q_upper):\n",
    "    within_interval = np.logical_and(y_true >= q_lower, y_true <= q_upper)\n",
    "    return np.mean(within_interval)  # Should ideally be close to 0.90 for [0.05, 0.95]\n",
    "\n",
    "#2. Interval Width (MPIW – Mean Prediction Interval Width)\n",
    "#How wide are your prediction intervals? Narrower intervals are better if coverage is still acceptable.\n",
    "\n",
    "def mpiw(q_lower, q_upper):\n",
    "    return np.mean(q_upper - q_lower)\n",
    "\n",
    "#3. Quantile Loss (Pinball Loss)\n",
    "#This directly evaluates how well your model estimates each quantile.\n",
    "\n",
    "def quantile_loss(y_true, y_pred, q):\n",
    "    return np.mean(np.maximum(q * (y_true - y_pred), (q - 1) * (y_true - y_pred)))"
   ]
  },
  {
   "cell_type": "code",
   "execution_count": 40,
   "id": "3fa8d044",
   "metadata": {},
   "outputs": [
    {
     "name": "stdout",
     "output_type": "stream",
     "text": [
      "Prediction Interval Coverage Probability = 0.84\n",
      "Mean Prediction Interval Width = 73.39614868164062\n",
      "Quantile Loss (Pinball Loss) for q = 0.5 = 7.21262894153595\n",
      "Quantile Loss (Pinball Loss) for q = 0.05 = 2.1856367536038164\n",
      "Quantile Loss (Pinball Loss) for q = 0.95 = 2.945105307102205\n"
     ]
    }
   ],
   "source": [
    "print(f'Prediction Interval Coverage Probability = {picp(RUL_per_unit['RUL'], RUL_per_unit['RUL_pred05'], RUL_per_unit['RUL_pred95'])}')\n",
    "print(f'Mean Prediction Interval Width = {mpiw(RUL_per_unit['RUL_pred05'], RUL_per_unit['RUL_pred95'])}')\n",
    "print(f'Quantile Loss (Pinball Loss) for q = 0.5 = {quantile_loss(RUL_per_unit['RUL'], RUL_per_unit['RUL_pred5'], 0.5)}')\n",
    "print(f'Quantile Loss (Pinball Loss) for q = 0.05 = {quantile_loss(RUL_per_unit['RUL'], RUL_per_unit['RUL_pred05'], 0.05)}')\n",
    "print(f'Quantile Loss (Pinball Loss) for q = 0.95 = {quantile_loss(RUL_per_unit['RUL'], RUL_per_unit['RUL_pred95'], 0.95)}')"
   ]
  },
  {
   "cell_type": "code",
   "execution_count": 34,
   "id": "e3e7536b",
   "metadata": {},
   "outputs": [
    {
     "name": "stdout",
     "output_type": "stream",
     "text": [
      "mpiw = 73.39614868164062\n"
     ]
    }
   ],
   "source": []
  },
  {
   "cell_type": "code",
   "execution_count": 35,
   "id": "3e19e075",
   "metadata": {},
   "outputs": [
    {
     "name": "stdout",
     "output_type": "stream",
     "text": [
      "quantile loss = 7.21262894153595\n"
     ]
    }
   ],
   "source": []
  },
  {
   "cell_type": "code",
   "execution_count": 36,
   "id": "c4285e29",
   "metadata": {
    "scrolled": true
   },
   "outputs": [
    {
     "name": "stdout",
     "output_type": "stream",
     "text": [
      "quantile loss = 2.1856367536038164\n"
     ]
    }
   ],
   "source": []
  },
  {
   "cell_type": "code",
   "execution_count": 37,
   "id": "17e8642a",
   "metadata": {},
   "outputs": [
    {
     "name": "stdout",
     "output_type": "stream",
     "text": [
      "quantile loss = 2.945105307102205\n"
     ]
    }
   ],
   "source": []
  },
  {
   "cell_type": "code",
   "execution_count": null,
   "id": "781a9ada",
   "metadata": {},
   "outputs": [],
   "source": []
  }
 ],
 "metadata": {
  "kernelspec": {
   "display_name": "Python [conda env:anaconda3-industry] *",
   "language": "python",
   "name": "conda-env-anaconda3-industry-py"
  },
  "language_info": {
   "codemirror_mode": {
    "name": "ipython",
    "version": 3
   },
   "file_extension": ".py",
   "mimetype": "text/x-python",
   "name": "python",
   "nbconvert_exporter": "python",
   "pygments_lexer": "ipython3",
   "version": "3.13.1"
  }
 },
 "nbformat": 4,
 "nbformat_minor": 5
}
